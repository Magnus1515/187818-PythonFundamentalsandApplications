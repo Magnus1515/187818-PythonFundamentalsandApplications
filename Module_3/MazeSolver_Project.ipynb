{
 "cells": [
  {
   "cell_type": "markdown",
   "metadata": {
    "id": "_tCFpB-A-gnw"
   },
   "source": [
    "**Copyright: © NexStream Technical Education, LLC**.  \n",
    "All rights reserved\n"
   ]
  },
  {
   "cell_type": "markdown",
   "metadata": {
    "id": "E56dopGK2NW3"
   },
   "source": [
    "# Writing a Maze Solver\n",
    "Using this guide, you'll be writing a recursive maze solver. Carefully read each cell and write your own code accordingly. Remember to test your code as you go.\n",
    "\n",
    "If you hit errors or problems with your code, consult the \"troubleshooting\" section of this notebook, which can be found at the bottom. "
   ]
  },
  {
   "cell_type": "markdown",
   "metadata": {
    "id": "QSXcfLDt3Szw"
   },
   "source": [
    "## Prerequisites\n",
    "It's good practice to include some aspects of your code at the top of the file. At the very top of your code, you should:\n",
    "*  import required libraries\n",
    "*  define global variables"
   ]
  },
  {
   "cell_type": "code",
   "execution_count": 99,
   "metadata": {
    "id": "24LvORkc0Gdg"
   },
   "outputs": [],
   "source": [
    "# Import required libaries (\"from _____ import _____, _____\")\n",
    "\n",
    "# define global variables\n",
    "# Eg. WALL = '#'"
   ]
  },
  {
   "cell_type": "markdown",
   "metadata": {
    "id": "znGZU0tq5EmT"
   },
   "source": [
    "## Reading the file into memory\n",
    "Start by opening the .txt file and assigning it to a variable using open(). Then, define the rowCount and Maze variables for later use. \n",
    "\n",
    "We've already done this part for you, just to keep variable names consistent with later code - feel free to change the variable names later on.  \n",
    "\n",
    "Additional Notes and suggestions:  \n",
    "- When reading a text 'maze' file to assemble your 2D array you should write a helper function to print out the array.  You may see 'newline' characters ('\\n') appended at the end of each row.  If you see newline characters in your 2D array, you should add a check in your code to detect this and remove (or not append it) to your array.\n",
    "- If you disconnect from the server or close and reopen this script, you will need to rerun this block to open the file, or you should consider saving your 2D array after reading your maze text file.  Search on the Python 'deepcopy' function.  \n",
    "- Maze files with 'double-wide' walkways are tricky to navigate.  Try creating your own 'single-wide' maze text file to initially test your maze navigation code."
   ]
  },
  {
   "cell_type": "code",
   "execution_count": 100,
   "metadata": {
    "id": "qjMIYpHz6nT6"
   },
   "outputs": [],
   "source": [
    "# Open the .txt file on \"read\" mode & assign it to a variable\n",
    "mazeFile = open('maze_large.txt', 'r')\n",
    "\n",
    "# define empty variables for later use\n",
    "rowCount = 0 \n",
    "maze = []\n",
    "s_pos = []\n",
    "colCount = 0"
   ]
  },
  {
   "cell_type": "markdown",
   "metadata": {
    "id": "VifjE-NR7_nF"
   },
   "source": [
    "Next, use nested for loops to iterate through every character. The for loops should:\n",
    "* Read each character into a 2D list\n",
    "* Check for the position of the start character and save the coordinates in a set of variables\n",
    "* Find the dimensions of the maze by counting the rows and collumns.\n",
    "\n"
   ]
  },
  {
   "cell_type": "code",
   "execution_count": 101,
   "metadata": {
    "id": "GykaDwFd893_"
   },
   "outputs": [],
   "source": [
    "mazeFile = open('maze_large.txt', 'r')\n",
    "\n",
    "#rowCount = 0 \n",
    "#maze = []\n",
    "# s_pos = []\n",
    "# f_pos =[]\n",
    "def finding_s_and_f(maze):\n",
    "    rowCount = 0 \n",
    "    maze = []\n",
    "    s_pos = []\n",
    "    f_pos =[]\n",
    "    for line in mazeFile:\n",
    "        # Define an empty row\n",
    "        rowCount += 1\n",
    "        rowList = []\n",
    "        colCount = 0\n",
    "        for ch in line:\n",
    "            # Append each character in a row to rowList[]\n",
    "            rowList.append(ch)\n",
    "            colCount += 1\n",
    "            # Check for the S character and save its coordinates\n",
    "            if (ch == \"S\"):\n",
    "                s_pos = (rowCount, colCount)\n",
    "                print(s_pos)\n",
    "            elif (ch == \"F\"):\n",
    "                f_pos = (rowCount, colCount)\n",
    "                print(f_pos)\n",
    "            \n",
    "        # Append each rowList[] to maze[]\n",
    "        maze.append(rowList)\n",
    "    return maze\n",
    "\n",
    "\n",
    "#print(maze)\n",
    "\n",
    "#print(\"s position: \" ,s_pos, \"f positon: \" , f_pos)\n",
    "\n",
    "# def pritingMaze(maze):\n",
    "#     for line in maze:\n",
    "#         print(line)\n",
    "\n",
    "# print(pritingMaze(maze))\n",
    "\n",
    "# If you haven't done so already, go back and implement a system that counts the\n",
    "# number of rows and collumns. You should save these dimensions in a set of variables"
   ]
  },
  {
   "cell_type": "markdown",
   "metadata": {
    "id": "9pFzFTTi9mDs"
   },
   "source": [
    "## The Recursive Function\n",
    "Once you've read the file into memory as a 2D list and determined the starting position and maze dimensions, its time to write the recursive function. Name this function solveFrom(), and this function will take 3 variables:\n",
    "\n",
    "*   Maze - The 2D list that was read from the file\n",
    "*   rowPos - The current row position that the program is at\n",
    "*   colPos - The current column position that the program is at\n",
    "\n",
    "Remember the three steps we're going to take to write this recursive function:\n",
    "\n",
    "1. The base case ( & leaving a breadcrumb)\n",
    "2. The recursive case\n",
    "3. Marking up"
   ]
  },
  {
   "cell_type": "code",
   "execution_count": 103,
   "metadata": {
    "id": "AHH2FR__CqSU"
   },
   "outputs": [],
   "source": [
    "def solveFrom(maze, rowPos, colPos):\n",
    "  # First, define the base case\n",
    "  # We've defined the first base case for you, but there are two other base cases for you to define\n",
    "  # Recall the algorithm we went over in the presentation\n",
    "   found = False\n",
    "  # 1 Base Case If you're currently on the F return True \n",
    "  #\n",
    "   if maze[rowPos][colPos] == \"F\":\n",
    "      return True\n",
    "  \n",
    "   if maze[rowPos][colPos] == \"#\" or maze[rowPos][colPos] == \".\":\n",
    "      return False\n",
    "  \n",
    "  # Leave a breadcrumb. Do this by setting the current position to your breadcrumb variable.\n",
    "   if maze[rowPos][colPos] == \".\":\n",
    "      return False\n",
    "  \n",
    "  # Define the recursive case. Search in all four directions for a solution.\n",
    "  # We've already searched North, its up to you to implement the other three directions!\n",
    "   maze[rowPos][colPos] = '.'\n",
    "   found = False\n",
    "   \n",
    "   \n",
    "   if solveFrom(maze, rowPos-1, colPos) == True: #Up\n",
    "      found = True\n",
    "   elif solveFrom(maze, rowPos+1, colPos) == True: #Down\n",
    "      found = True\n",
    "   elif solveFrom(maze, rowPos, colPos+1) == True: # Right\n",
    "      found = True\n",
    "   elif solveFrom(maze, rowPos, colPos-1) == True: # Left\n",
    "      found = True\n",
    "\n",
    "  # Depending on whether or not a solution was found, markup the maze\n",
    "\n",
    "  \n",
    "  # What should we markup the path with if we hit a dead end?\n",
    "   if found:\n",
    "      maze[rowPos][colPos] == 'P'\n",
    "    # If we've found a solution, we should markup the path with the solution character.\n",
    "    # Recall that we markup our current position using maze[rowPos][colPos] == 'character'\n",
    "   else:\n",
    "   # What should we markup the path with if we hit a dead end?\n",
    "      maze[rowPos][colPos] == 'X'\n",
    "   \n",
    "\n",
    "  # We want to return True if we've found a solution, and False if not.\n",
    "  # Thankfully, the \"found\" variable stores this very information,\n",
    "  # so all we need to do it return found\n",
    "   return found\n",
    "\n"
   ]
  },
  {
   "cell_type": "markdown",
   "metadata": {
    "id": "cFhn6KqXHHZB"
   },
   "source": [
    "## Running the function and drawing the solution\n",
    "Now that you've read our maze to memory and written your recursive function, all you have to do is run the recursive function and output the solution into an image. \n",
    "\n",
    "First things first, start with calling the function. This will turn the unsolved maze 2D list into a solved maze 2D list. The rowPos and colPos variables should be set to the coordinates of the S character."
   ]
  },
  {
   "cell_type": "code",
   "execution_count": 104,
   "metadata": {
    "id": "CZtndvB_Ie1R"
   },
   "outputs": [],
   "source": [
    "# Call the function from the start position\n",
    "\n",
    "# Once you're done writing the function call, feel free to uncomment the next\n",
    "# lines to see what the solved maze list looks like:\n",
    "\n",
    "# for line in maze:\n",
    "#  print(''.join(line))"
   ]
  },
  {
   "cell_type": "markdown",
   "metadata": {
    "id": "hu6dYJY0IlTy"
   },
   "source": [
    "Finally, use the PIL module to change the solved maze LIST into a solved maze IMAGE.\n",
    "\n",
    "Some of the PIL module related code is filled in for you, as you're not expected to be proficient in PIL at this point."
   ]
  },
  {
   "cell_type": "code",
   "execution_count": null,
   "metadata": {
    "id": "GWKiSYqSI1jG"
   },
   "outputs": [
    {
     "name": "stdout",
     "output_type": "stream",
     "text": [
      "(19, 7)\n",
      "(0, 2)\n",
      "['#', '#', 'F', '#', '#', '#', '#', '#', '#', '#', '#', '#', '#', '#', '#', '#', '#', '#', '#', '#', '#', '#', '#', '#', '#', '#', '#', '#', '#', '#', '#']\n",
      "['#', ' ', 'P', 'P', 'P', 'P', 'P', 'P', 'P', 'P', 'P', 'P', 'P', 'P', 'P', 'P', 'P', 'P', 'P', 'P', 'P', 'P', 'P', 'P', '#', ' ', ' ', '#', ' ', ' ', '#']\n",
      "['#', ' ', ' ', '#', '#', '#', '#', '#', '#', '#', '#', '#', '#', '#', '#', '#', '#', '#', '#', '#', '#', '#', 'X', 'P', '#', ' ', ' ', '#', ' ', ' ', '#']\n",
      "['#', ' ', ' ', ' ', ' ', ' ', ' ', ' ', ' ', ' ', ' ', ' ', '#', 'X', 'X', 'X', 'X', 'X', 'X', 'X', 'X', '#', 'X', 'P', ' ', ' ', ' ', ' ', ' ', ' ', '#']\n",
      "['#', '#', '#', '#', ' ', ' ', '#', ' ', ' ', '#', ' ', ' ', '#', '#', '#', '#', 'X', 'X', '#', 'X', 'X', '#', 'X', 'P', '#', '#', '#', '#', '#', '#', '#']\n",
      "['#', ' ', ' ', '#', ' ', ' ', '#', ' ', ' ', '#', ' ', ' ', '#', ' ', ' ', '#', 'X', 'X', '#', 'X', 'X', 'X', 'X', 'P', ' ', ' ', ' ', '#', 'X', 'X', '#']\n",
      "['#', ' ', ' ', '#', ' ', ' ', '#', ' ', ' ', '#', '#', '#', '#', ' ', ' ', '#', '#', '#', '#', '#', '#', '#', 'X', 'P', '#', '#', '#', '#', 'X', 'X', '#']\n",
      "['#', ' ', ' ', ' ', ' ', ' ', '#', ' ', ' ', '#', ' ', ' ', ' ', ' ', ' ', '#', 'X', 'X', '#', 'X', 'X', 'X', 'X', 'P', 'P', 'P', 'P', 'P', 'P', 'X', '#']\n",
      "['#', '#', '#', '#', '#', '#', '#', ' ', ' ', '#', ' ', ' ', '#', '#', '#', '#', 'X', 'X', '#', 'X', 'X', '#', '#', '#', '#', '#', '#', '#', 'P', 'X', '#']\n",
      "['#', ' ', ' ', '#', ' ', ' ', ' ', ' ', ' ', '#', ' ', ' ', ' ', ' ', ' ', '#', 'X', 'X', 'X', 'X', 'X', 'X', 'X', 'X', '#', ' ', ' ', ' ', 'P', 'X', '#']\n",
      "['#', ' ', ' ', '#', '#', '#', '#', ' ', ' ', '#', ' ', ' ', '#', '#', '#', '#', 'X', 'X', '#', '#', '#', '#', '#', '#', '#', '#', '#', '#', 'P', 'X', '#']\n",
      "['#', ' ', ' ', ' ', ' ', ' ', ' ', ' ', ' ', ' ', ' ', ' ', ' ', ' ', ' ', '#', 'X', 'X', '#', ' ', ' ', ' ', ' ', 'P', 'P', 'P', 'P', 'P', 'P', 'X', '#']\n",
      "['#', ' ', ' ', '#', '#', '#', '#', '#', '#', '#', '#', '#', '#', '#', '#', '#', '#', '#', '#', '#', '#', '#', ' ', 'P', '#', '#', '#', '#', '#', '#', '#']\n",
      "['#', ' ', ' ', ' ', ' ', ' ', ' ', ' ', ' ', '#', ' ', ' ', '#', ' ', ' ', ' ', ' ', ' ', ' ', ' ', ' ', ' ', ' ', 'P', '#', 'X', 'P', 'P', 'P', 'X', '#']\n",
      "['#', ' ', ' ', '#', ' ', ' ', '#', '#', '#', '#', ' ', ' ', '#', ' ', ' ', '#', '#', '#', '#', ' ', ' ', '#', ' ', 'P', '#', 'X', 'P', '#', 'P', 'X', '#']\n",
      "['#', ' ', ' ', '#', ' ', ' ', ' ', ' ', ' ', '#', ' ', ' ', ' ', ' ', ' ', '#', ' ', ' ', ' ', ' ', ' ', '#', ' ', 'P', 'P', 'P', 'P', '#', 'P', 'X', '#']\n",
      "['#', ' ', ' ', '#', '#', '#', '#', '#', '#', '#', ' ', ' ', '#', '#', '#', '#', '#', '#', '#', '#', '#', '#', '#', '#', '#', '#', '#', '#', 'P', 'X', '#']\n",
      "['#', ' ', ' ', ' ', ' ', ' ', ' ', ' ', ' ', '#', ' ', ' ', '#', ' ', ' ', ' ', 'P', 'P', '#', 'P', 'P', '#', ' ', ' ', ' ', ' ', ' ', ' ', 'P', 'X', '#']\n",
      "['#', ' ', ' ', '#', ' ', ' ', '#', '#', '#', '#', '#', '#', '#', '#', '#', '#', 'P', 'P', '#', 'P', 'P', '#', '#', '#', '#', '#', '#', '#', 'P', 'X', '#']\n",
      "['#', ' ', ' ', '#', ' ', ' ', '#', 'P', 'P', 'P', 'P', 'P', 'P', 'P', 'P', 'P', 'P', 'P', 'P', 'P', 'P', 'P', 'P', 'P', 'P', 'P', 'P', 'P', 'P', 'X', '#']\n",
      "['#', '#', '#', '#', '#', '#', '#', '#', '#', '#', '#', '#', '#', '#', '#', '#', '#', '#', '#', '#', '#', '#', '#', '#', '#', '#', '#', '#', '#', '#', '#']\n",
      "None\n"
     ]
    }
   ],
   "source": [
    "# Create a new image with a width and height based on the column and row count\n",
    "# Replace 'number of collumns' and 'number of rows' with your own variables\n",
    "from PIL import Image, ImageDraw\n",
    "\n",
    "mazeFile = []\n",
    "with open('maze_large.txt', 'r') as raw_mazeFile:\n",
    "    for line in raw_mazeFile:\n",
    "        mazeFile.append(line.rstrip('\\n'))\n",
    "\n",
    "\n",
    "\n",
    "rowCount = 0\n",
    "maze = []\n",
    "\n",
    "s_pos = []\n",
    "f_pos =[]\n",
    "for line in mazeFile:\n",
    "    # Define an empty row\n",
    "    rowList = []\n",
    "    colCount = 0\n",
    "    for ch in line:\n",
    "        # Append each character in a row to rowList[]\n",
    "        rowList.append(ch)\n",
    "        # Check for the S character and save its coordinates\n",
    "        if (ch == \"S\"):\n",
    "            s_pos = (rowCount, colCount)\n",
    "\n",
    "        elif (ch == \"F\"):\n",
    "            f_pos = (rowCount, colCount)\n",
    "        colCount += 1\n",
    "    rowCount += 1\n",
    "    \n",
    "    # Append each rowList[] to maze[]\n",
    "    maze.append(rowList)\n",
    "\n",
    "print(s_pos)\n",
    "print(f_pos)\n",
    "\n",
    "# def s_finding(maze):\n",
    "#     rowCount = 0\n",
    "#     maze = []\n",
    "#     for line in mazeFile:\n",
    "#         rowList = []\n",
    "#         for ch in line:\n",
    "#             rowList.append(ch)\n",
    "#             if rowList[-1] == 'S':\n",
    "#                 S = (rowCount, len(rowList) - 1)\n",
    "#             elif rowList[-1] == 'F':\n",
    "#                 F = (rowCount, len(rowList) - 1)\n",
    "#         if rowCount == 0:\n",
    "#             colCount = len(rowList)\n",
    "#         rowCount += 1\n",
    "#         maze.append(rowList)\n",
    "#     return S, F\n",
    "\n",
    "# s, f = s_finding(maze)\n",
    "# print(\"Correct s :\", s)\n",
    "# print(\"Correct f : \", f)\n",
    "\n",
    "def solveFrom(maze, rowPos, colPos):\n",
    "    # First, define the base case\n",
    "    # We've defined the first base case for you, but there are two other base cases for you to define\n",
    "    # Recall the algorithm we went over in the presentation\n",
    "    # 1 Base Case If you're currently on the F return True \n",
    "    #\n",
    "    if maze[rowPos][colPos] == 'F':\n",
    "        return True\n",
    "    \n",
    "    if maze[rowPos][colPos] == '#':\n",
    "        return False\n",
    "    \n",
    "    # Leave a breadcrumb. Do this by setting the current position to your breadcrumb variable.\n",
    "    if maze[rowPos][colPos] == '.':\n",
    "        return False\n",
    "    \n",
    "    # Define the recursive case. Search in all four directions for a solution.\n",
    "    # We've already searched North, its up to you to implement the other three directions!\n",
    "    maze[rowPos][colPos] = '.'\n",
    "\n",
    "    found = False\n",
    "    \n",
    "    if solveFrom(maze, rowPos - 1, colPos):  # Up\n",
    "        found = True\n",
    "    elif solveFrom(maze, rowPos + 1, colPos):  # Down\n",
    "        found = True\n",
    "    elif solveFrom(maze, rowPos, colPos + 1):  # Right\n",
    "        found = True\n",
    "    elif solveFrom(maze, rowPos, colPos - 1):  # Left\n",
    "        found = True\n",
    "    if found:\n",
    "        maze[rowPos][colPos] = 'P'  \n",
    "    else:\n",
    "        maze[rowPos][colPos] = 'X'  \n",
    "    \n",
    "    return found\n",
    "\n",
    "\n",
    "\n",
    "def main():\n",
    "    solveFrom(maze, s_pos[0], s_pos[1])\n",
    "    def pritingMaze(maze):\n",
    "        for line in maze:\n",
    "            print(line)\n",
    "\n",
    "    print(pritingMaze(maze))\n",
    "    im = Image.new('RGB', (colCount * 10, rowCount * 10), (255, 255, 255))\n",
    "    draw = ImageDraw.Draw(im)\n",
    "\n",
    "    col = 0\n",
    "    row = 0\n",
    "\n",
    "    # iterate through every character of every line\n",
    "    # to draw a pixel, do (change the fill parameter to change the pixel's color):\n",
    "    # draw.rectangle((col * 10, row * 10, (col * 10) + 10, (row * 10) + 10), fill=(100, 100, 100))\n",
    "    for line in maze:\n",
    "        col = 0\n",
    "        for ch in line:\n",
    "            if ch == '#':\n",
    "                draw.rectangle((col * 10, row * 10, (col * 10) + 10, (row * 10) + 10), fill=(0, 0, 0))\n",
    "            elif ch == 'P':\n",
    "                draw.rectangle((col * 10, row * 10, (col * 10) + 10, (row * 10) + 10), fill=(0, 180, 0))\n",
    "            col += 1\n",
    "        row += 1  # Corrected row tracking\n",
    "\n",
    "    # HINT: You need to keep track of the collumn and row number to draw your pixels.\n",
    "    # If you're using the sample code, set your collumn and row variables to 'col' and 'row'\n",
    "\n",
    "    # Save the image\n",
    "    im.save('solution.jpg')\n",
    "\n",
    "main()\n"
   ]
  },
  {
   "cell_type": "markdown",
   "metadata": {
    "id": "_E2H2Zr2axk6"
   },
   "source": [
    "## Running the program\n",
    "To run your program, make sure the text files are in the runtime library. You can do this by clicking on the folder icon on the left. Make sure you see maze_small.txt, maze_medium.txt, maze_large.txt, and maze_impossible.txt. Sometimes if you've been away from Colab for a long time, your runtime will disconnect, so make sure the files are there.\n",
    "\n",
    "Go to runtime > run all. If there are no errors and everything runs correctly, you should be able to find a file called solution.jpg in the Files tab on the left. Make sure your program works by running it on all 4 types of mazes. You can change the maze you're solving by changing the filename in the open() command.\n",
    "\n",
    "If you have bugs or errors, check the \"troubleshooting\" cell at the bottom of this Colab for help troubleshooting. "
   ]
  },
  {
   "cell_type": "markdown",
   "metadata": {
    "id": "42BNFXVRJ7u7"
   },
   "source": [
    "## Success!\n",
    "You've finally finished writing your Maze solver!\n",
    "\n",
    "Congrats! You now know how to:\n",
    "\n",
    "*   Read a file to memory using nested for loops and 2D lists\n",
    "*   Write a recursive function with multiple base and recursive cases\n",
    "*   Use recursion to solve complicated problems\n",
    "*   Use the Python Imaging Library to create, edit, and draw on images based on your code\n",
    "\n"
   ]
  },
  {
   "cell_type": "markdown",
   "metadata": {
    "id": "pp5ZqJbIWVvT"
   },
   "source": [
    "# Troubleshooting\n",
    "A big part of programming is correcting mistakes. When writing programs, there are bound to be bugs. Here are some tips to correcting your bugs:\n",
    "\n",
    "### Pay attention to the error message. Here are some common errors:\n",
    "* ```name 'example' is not defined: ```The variables you're using aren't defined yet. Make sure you've defined your variable before, and that it's not mispelled. This may mean you need to run the cells with the variable definition. To solve this issue, go to the top toolbar and do Runtime > Run all.\n",
    "*   ```IndentationError: unexpected indent```: There's an indentation error in your code. Make sure all your code is indented correctly. For loops, if statements, and functions all need to have the correct indentation to run properly.\n",
    "* ```IndentationError: expected an indented block``` OR ```SyntaxError: unexpected EOF while parsing```: You have an empty indented area. In Python, you need to have content in an indented block for the program to run correctly. You can easily correct this problem by adding a temporary line of code, such as ```print('temp')``` in the indented area.\n"
   ]
  }
 ],
 "metadata": {
  "colab": {
   "collapsed_sections": [
    "QSXcfLDt3Szw",
    "znGZU0tq5EmT",
    "9pFzFTTi9mDs",
    "cFhn6KqXHHZB"
   ],
   "provenance": [],
   "toc_visible": true
  },
  "kernelspec": {
   "display_name": "venv",
   "language": "python",
   "name": "python3"
  },
  "language_info": {
   "codemirror_mode": {
    "name": "ipython",
    "version": 3
   },
   "file_extension": ".py",
   "mimetype": "text/x-python",
   "name": "python",
   "nbconvert_exporter": "python",
   "pygments_lexer": "ipython3",
   "version": "3.13.2"
  }
 },
 "nbformat": 4,
 "nbformat_minor": 0
}

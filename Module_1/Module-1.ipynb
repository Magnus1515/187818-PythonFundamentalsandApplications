{
 "cells": [
  {
   "cell_type": "markdown",
   "id": "94023f05",
   "metadata": {},
   "source": [
    "## Module 1 Assignment"
   ]
  },
  {
   "cell_type": "code",
   "execution_count": 1,
   "id": "3c82e3d0",
   "metadata": {},
   "outputs": [
    {
     "name": "stdout",
     "output_type": "stream",
     "text": [
      "TestResults(failed=0, attempted=2)\n"
     ]
    }
   ],
   "source": [
    "import doctest\n",
    "\n",
    "def ageCategory(age):\n",
    "    if age < 5:\n",
    "        return 'Category -> I'\n",
    "    elif age >= 5 and age <=10:\n",
    "         return 'Category -> II'\n",
    "    elif age >= 11 and age <=20:\n",
    "        return 'Category -> III'\n",
    "    elif age >= 21 and age <= 64: \n",
    "        return 'Category -> IV'\n",
    "    elif age > 64:\n",
    "        return 'Category -> V'\n",
    "    else :\n",
    "        return \"Enter a correct number\"\n",
    "\n",
    "def ageCategory2(age):\n",
    "    \"\"\"\n",
    "    >>> ageCategory2(44)\n",
    "    'Category -> IV'\n",
    "    \"\"\"    \n",
    "    return ageCategory(age)\n",
    "\n",
    "\n",
    "def ageCategory3(*profiles):\n",
    "    \"\"\"\n",
    "    >>> ageCategory3('Jim', 22, 'Jane',3)\n",
    "    ('Jim Category -> IV', 'Jane Category -> I')\n",
    "    \"\"\"    \n",
    "    return profiles[0]+ \" \"+ ageCategory(profiles[1]), profiles[2] + \" \"+  ageCategory(profiles[3])\n",
    "    \n",
    "    \n",
    "\n",
    "if __name__ == \"__main__\":\n",
    "    import doctest\n",
    "    ageCategory3('Jim', 22, 'Jane',3)\n",
    "    print(doctest.testmod())\n",
    "\n"
   ]
  }
 ],
 "metadata": {
  "kernelspec": {
   "display_name": "Python 3",
   "language": "python",
   "name": "python3"
  },
  "language_info": {
   "codemirror_mode": {
    "name": "ipython",
    "version": 3
   },
   "file_extension": ".py",
   "mimetype": "text/x-python",
   "name": "python",
   "nbconvert_exporter": "python",
   "pygments_lexer": "ipython3",
   "version": "3.12.4"
  }
 },
 "nbformat": 4,
 "nbformat_minor": 5
}

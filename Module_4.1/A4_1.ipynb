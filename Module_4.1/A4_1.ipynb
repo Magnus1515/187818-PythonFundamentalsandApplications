{
 "cells": [
  {
   "cell_type": "code",
   "execution_count": 1,
   "id": "f884ef88-4e8f-40d9-bb46-1d9e723c781c",
   "metadata": {},
   "outputs": [],
   "source": [
    "import numpy as np\n",
    "import pandas as pd\n",
    "import matplotlib as plt"
   ]
  },
  {
   "cell_type": "code",
   "execution_count": 2,
   "id": "ff56c139-0060-4859-bae5-dfe049d19f48",
   "metadata": {},
   "outputs": [],
   "source": [
    "names = [\"symboling\", \"normalized-losses\", \"make\", \"fuel-type\", \"aspiration\",\n",
    "         \"num-of-doors\", \"body-style\", \"drive-wheels\", \"engine-location\", \"wheel-base\",\n",
    "        \"length\", \"width\", \"height\", \"curb-weight\", \"engine-type\", \"num-of-cylinders\",\n",
    "        \"engine-size\", \"fuel-system\", \"bore\", \"stroke\", \"compression-ratio\", \"horsepower\",\n",
    "        \"peak-rpm\", \"city-mpg\", \"highway-mpg\", \"price\"]"
   ]
  },
  {
   "cell_type": "markdown",
   "id": "2198d0e8-7fa1-417e-ab14-5e5d71612e5a",
   "metadata": {},
   "source": [
    "# Dataset Head"
   ]
  },
  {
   "cell_type": "code",
   "execution_count": 3,
   "id": "7831155c-5912-49a4-bb75-711cdf4f8a32",
   "metadata": {},
   "outputs": [
    {
     "name": "stdout",
     "output_type": "stream",
     "text": [
      "   symboling normalized-losses         make fuel-type aspiration num-of-doors  \\\n",
      "0          3                 ?  alfa-romero       gas        std          two   \n",
      "1          3                 ?  alfa-romero       gas        std          two   \n",
      "2          1                 ?  alfa-romero       gas        std          two   \n",
      "3          2               164         audi       gas        std         four   \n",
      "4          2               164         audi       gas        std         four   \n",
      "\n",
      "    body-style drive-wheels engine-location  wheel-base  ...  engine-size  \\\n",
      "0  convertible          rwd           front        88.6  ...          130   \n",
      "1  convertible          rwd           front        88.6  ...          130   \n",
      "2    hatchback          rwd           front        94.5  ...          152   \n",
      "3        sedan          fwd           front        99.8  ...          109   \n",
      "4        sedan          4wd           front        99.4  ...          136   \n",
      "\n",
      "   fuel-system  bore  stroke compression-ratio horsepower  peak-rpm city-mpg  \\\n",
      "0         mpfi  3.47    2.68               9.0        111      5000       21   \n",
      "1         mpfi  3.47    2.68               9.0        111      5000       21   \n",
      "2         mpfi  2.68    3.47               9.0        154      5000       19   \n",
      "3         mpfi  3.19    3.40              10.0        102      5500       24   \n",
      "4         mpfi  3.19    3.40               8.0        115      5500       18   \n",
      "\n",
      "  highway-mpg  price  \n",
      "0          27  13495  \n",
      "1          27  16500  \n",
      "2          26  16500  \n",
      "3          30  13950  \n",
      "4          22  17450  \n",
      "\n",
      "[5 rows x 26 columns]\n"
     ]
    }
   ],
   "source": [
    "data = pd.read_csv('imports-85.csv', names=names)\n",
    "print(data.head(5))"
   ]
  },
  {
   "cell_type": "markdown",
   "id": "73058508-52bb-43df-86cd-944ddb66878f",
   "metadata": {},
   "source": [
    "# Dataset Statistics"
   ]
  },
  {
   "cell_type": "code",
   "execution_count": 4,
   "id": "fa04e7bc-d2d5-4f82-890d-618692b92be2",
   "metadata": {},
   "outputs": [
    {
     "name": "stdout",
     "output_type": "stream",
     "text": [
      "         symboling normalized-losses    make fuel-type aspiration  \\\n",
      "count   205.000000               205     205       205        205   \n",
      "unique         NaN                52      22         2          2   \n",
      "top            NaN                 ?  toyota       gas        std   \n",
      "freq           NaN                41      32       185        168   \n",
      "mean      0.834146               NaN     NaN       NaN        NaN   \n",
      "std       1.245307               NaN     NaN       NaN        NaN   \n",
      "min      -2.000000               NaN     NaN       NaN        NaN   \n",
      "25%       0.000000               NaN     NaN       NaN        NaN   \n",
      "50%       1.000000               NaN     NaN       NaN        NaN   \n",
      "75%       2.000000               NaN     NaN       NaN        NaN   \n",
      "max       3.000000               NaN     NaN       NaN        NaN   \n",
      "\n",
      "       num-of-doors body-style drive-wheels engine-location  wheel-base  ...  \\\n",
      "count           205        205          205             205  205.000000  ...   \n",
      "unique            3          5            3               2         NaN  ...   \n",
      "top            four      sedan          fwd           front         NaN  ...   \n",
      "freq            114         96          120             202         NaN  ...   \n",
      "mean            NaN        NaN          NaN             NaN   98.756585  ...   \n",
      "std             NaN        NaN          NaN             NaN    6.021776  ...   \n",
      "min             NaN        NaN          NaN             NaN   86.600000  ...   \n",
      "25%             NaN        NaN          NaN             NaN   94.500000  ...   \n",
      "50%             NaN        NaN          NaN             NaN   97.000000  ...   \n",
      "75%             NaN        NaN          NaN             NaN  102.400000  ...   \n",
      "max             NaN        NaN          NaN             NaN  120.900000  ...   \n",
      "\n",
      "        engine-size  fuel-system  bore  stroke compression-ratio horsepower  \\\n",
      "count    205.000000          205   205     205        205.000000        205   \n",
      "unique          NaN            8    39      37               NaN         60   \n",
      "top             NaN         mpfi  3.62    3.40               NaN         68   \n",
      "freq            NaN           94    23      20               NaN         19   \n",
      "mean     126.907317          NaN   NaN     NaN         10.142537        NaN   \n",
      "std       41.642693          NaN   NaN     NaN          3.972040        NaN   \n",
      "min       61.000000          NaN   NaN     NaN          7.000000        NaN   \n",
      "25%       97.000000          NaN   NaN     NaN          8.600000        NaN   \n",
      "50%      120.000000          NaN   NaN     NaN          9.000000        NaN   \n",
      "75%      141.000000          NaN   NaN     NaN          9.400000        NaN   \n",
      "max      326.000000          NaN   NaN     NaN         23.000000        NaN   \n",
      "\n",
      "        peak-rpm    city-mpg highway-mpg price  \n",
      "count        205  205.000000  205.000000   205  \n",
      "unique        24         NaN         NaN   187  \n",
      "top         5500         NaN         NaN     ?  \n",
      "freq          37         NaN         NaN     4  \n",
      "mean         NaN   25.219512   30.751220   NaN  \n",
      "std          NaN    6.542142    6.886443   NaN  \n",
      "min          NaN   13.000000   16.000000   NaN  \n",
      "25%          NaN   19.000000   25.000000   NaN  \n",
      "50%          NaN   24.000000   30.000000   NaN  \n",
      "75%          NaN   30.000000   34.000000   NaN  \n",
      "max          NaN   49.000000   54.000000   NaN  \n",
      "\n",
      "[11 rows x 26 columns]\n"
     ]
    }
   ],
   "source": [
    "print(data.describe(include=\"all\"))"
   ]
  },
  {
   "cell_type": "code",
   "execution_count": 5,
   "id": "d301de60-35a5-4c54-baa8-d4dd67e13bcd",
   "metadata": {},
   "outputs": [
    {
     "name": "stdout",
     "output_type": "stream",
     "text": [
      "   symboling normalized-losses         make fuel-type aspiration num-of-doors  \\\n",
      "0          3               NaN  alfa-romero       gas        std          two   \n",
      "\n",
      "    body-style drive-wheels engine-location  wheel-base  ...  engine-size  \\\n",
      "0  convertible          rwd           front        88.6  ...          130   \n",
      "\n",
      "   fuel-system  bore  stroke compression-ratio horsepower  peak-rpm city-mpg  \\\n",
      "0         mpfi  3.47    2.68               9.0        111      5000       21   \n",
      "\n",
      "  highway-mpg  price  \n",
      "0          27  13495  \n",
      "\n",
      "[1 rows x 26 columns]\n"
     ]
    }
   ],
   "source": [
    "data.replace('?', np.nan, inplace=True)\n",
    "print(data.head(1))"
   ]
  },
  {
   "cell_type": "markdown",
   "id": "705828db-4bf8-4cdf-85cc-ed301483d3d2",
   "metadata": {},
   "source": [
    "# Doctest"
   ]
  },
  {
   "cell_type": "code",
   "execution_count": 6,
   "id": "9c2a659f-45ef-439f-9587-cb14eefca2c0",
   "metadata": {},
   "outputs": [
    {
     "data": {
      "text/plain": [
       "TestResults(failed=0, attempted=3)"
      ]
     },
     "execution_count": 6,
     "metadata": {},
     "output_type": "execute_result"
    }
   ],
   "source": [
    "import doctest\n",
    "\"\"\"\n",
    "  >>> print(data['normalized-losses'].iat[1])\n",
    "  nan\n",
    "  >>> print(data['peak-rpm'].iat[131])\n",
    "  nan\n",
    "  >>> print(data['horsepower'].iat[130])\n",
    "  nan\n",
    "\"\"\"\n",
    "\n",
    "doctest.testmod()"
   ]
  },
  {
   "cell_type": "markdown",
   "id": "019413a4-386c-4b8f-94b1-2e90341f84e5",
   "metadata": {},
   "source": [
    "# Count NaN"
   ]
  },
  {
   "cell_type": "code",
   "execution_count": 7,
   "id": "61013a63-8fbe-4703-8426-7dc9b4f35a26",
   "metadata": {},
   "outputs": [
    {
     "name": "stdout",
     "output_type": "stream",
     "text": [
      "normalized-losses has 41 missing values\n",
      "num-of-doors has 2 missing values\n",
      "bore has 4 missing values\n",
      "stroke has 4 missing values\n",
      "horsepower has 2 missing values\n",
      "peak-rpm has 2 missing values\n",
      "price has 4 missing values\n"
     ]
    }
   ],
   "source": [
    "missing_data = data.isnull()\n",
    "for i in data.columns:\n",
    "    count = missing_data[i].sum()\n",
    "    if count > 0:\n",
    "        print(f\"{i} has {count} missing values\")"
   ]
  },
  {
   "cell_type": "markdown",
   "id": "e64030de-d386-404c-90cb-1f5cb9b27682",
   "metadata": {},
   "source": [
    "# Doctest"
   ]
  },
  {
   "cell_type": "code",
   "execution_count": 8,
   "id": "0e509c57-a0b0-4df0-8185-843794dec524",
   "metadata": {},
   "outputs": [
    {
     "data": {
      "text/plain": [
       "TestResults(failed=0, attempted=4)"
      ]
     },
     "execution_count": 8,
     "metadata": {},
     "output_type": "execute_result"
    }
   ],
   "source": [
    "import doctest\n",
    "\"\"\"\n",
    "  >>> print(missing_data['normalized-losses'].value_counts())\n",
    "  normalized-losses\n",
    "  False    164\n",
    "  True      41\n",
    "  Name: count, dtype: int64\n",
    "  >>> print(missing_data['symboling'].value_counts())\n",
    "  symboling\n",
    "  False    205\n",
    "  Name: count, dtype: int64\n",
    "  >>> print(missing_data['bore'].value_counts())\n",
    "  bore\n",
    "  False    201\n",
    "  True       4\n",
    "  Name: count, dtype: int64\n",
    "  >>> print(missing_data['horsepower'].value_counts())\n",
    "  horsepower\n",
    "  False    203\n",
    "  True       2\n",
    "  Name: count, dtype: int64\n",
    "\"\"\"\n",
    "\n",
    "doctest.testmod()"
   ]
  },
  {
   "cell_type": "markdown",
   "id": "9d867dab-d7be-41df-98c9-dbae3dc49a11",
   "metadata": {},
   "source": [
    "# Mean"
   ]
  },
  {
   "cell_type": "code",
   "execution_count": 9,
   "id": "c77a9b93-4835-48ef-a057-93cb118cc082",
   "metadata": {},
   "outputs": [],
   "source": [
    "data['normalized-losses'] = pd.to_numeric(data['normalized-losses'], errors = 'coerce')\n",
    "mean_normalized_losses = data['normalized-losses'].mean()\n",
    "data['normalized-losses'] = data['normalized-losses'].fillna(mean_normalized_losses)"
   ]
  },
  {
   "cell_type": "markdown",
   "id": "d2d1a3c8-78a0-4699-92c3-4b40da6e3445",
   "metadata": {},
   "source": [
    "# Bore"
   ]
  },
  {
   "cell_type": "code",
   "execution_count": 10,
   "id": "fdd6616d-d40f-4fe9-a495-b5ecd029a86a",
   "metadata": {},
   "outputs": [
    {
     "name": "stdout",
     "output_type": "stream",
     "text": [
      "3.62\n"
     ]
    }
   ],
   "source": [
    "data['bore'] = pd.to_numeric(data['bore'], errors = 'coerce')\n",
    "most_common_bore = data['bore'].value_counts().idxmax()\n",
    "print(most_common_bore)\n",
    "data['bore'] = data['bore'].fillna(most_common_bore)"
   ]
  },
  {
   "cell_type": "markdown",
   "id": "4d967dae-9d92-4e12-bc96-5bdea9b9784b",
   "metadata": {},
   "source": [
    "# Doors"
   ]
  },
  {
   "cell_type": "code",
   "execution_count": 11,
   "id": "e0a7802e-4aef-46fd-814a-ee0738690d2e",
   "metadata": {},
   "outputs": [],
   "source": [
    "most_common_doors = data['num-of-doors'].value_counts().idxmax()\n",
    "data['num-of-doors'] = data['num-of-doors'].fillna(most_common_doors)"
   ]
  },
  {
   "cell_type": "markdown",
   "id": "d862fdcb-488f-47c8-963a-29233b343733",
   "metadata": {},
   "source": [
    "# Drop non priced"
   ]
  },
  {
   "cell_type": "code",
   "execution_count": 12,
   "id": "8fa8d8e8-b72a-4b85-8ae9-40b2b85f7609",
   "metadata": {},
   "outputs": [
    {
     "name": "stdout",
     "output_type": "stream",
     "text": [
      "missing data: symboling            0\n",
      "normalized-losses    0\n",
      "make                 0\n",
      "fuel-type            0\n",
      "aspiration           0\n",
      "num-of-doors         0\n",
      "body-style           0\n",
      "drive-wheels         0\n",
      "engine-location      0\n",
      "wheel-base           0\n",
      "length               0\n",
      "width                0\n",
      "height               0\n",
      "curb-weight          0\n",
      "engine-type          0\n",
      "num-of-cylinders     0\n",
      "engine-size          0\n",
      "fuel-system          0\n",
      "bore                 0\n",
      "stroke               4\n",
      "compression-ratio    0\n",
      "horsepower           2\n",
      "peak-rpm             2\n",
      "city-mpg             0\n",
      "highway-mpg          0\n",
      "price                0\n",
      "dtype: int64\n"
     ]
    }
   ],
   "source": [
    "data = data.dropna(subset=['price'], axis = 0)\n",
    "print(f'missing data: {data.isnull().sum()}')"
   ]
  },
  {
   "cell_type": "code",
   "execution_count": 13,
   "id": "4894829c-012f-4d24-aeb8-7997cd5a134a",
   "metadata": {},
   "outputs": [
    {
     "name": "stdout",
     "output_type": "stream",
     "text": [
      "Index(['symboling', 'normalized-losses', 'make', 'fuel-type', 'aspiration',\n",
      "       'num-of-doors', 'body-style', 'drive-wheels', 'engine-location',\n",
      "       'wheel-base', 'length', 'width', 'height', 'curb-weight', 'engine-type',\n",
      "       'num-of-cylinders', 'engine-size', 'fuel-system', 'bore', 'stroke',\n",
      "       'compression-ratio', 'horsepower', 'peak-rpm', 'city-mpg',\n",
      "       'highway-mpg', 'price'],\n",
      "      dtype='object')\n"
     ]
    }
   ],
   "source": [
    "print(data.columns)"
   ]
  },
  {
   "cell_type": "code",
   "execution_count": 14,
   "id": "bd418073-c36a-47f7-a3a1-6550b33b767f",
   "metadata": {},
   "outputs": [
    {
     "name": "stdout",
     "output_type": "stream",
     "text": [
      "['two' 'four']\n"
     ]
    }
   ],
   "source": [
    "print(data['num-of-doors'].unique())"
   ]
  },
  {
   "cell_type": "code",
   "execution_count": 15,
   "id": "e89efc6a-346b-4cfc-9aeb-f506c8f46607",
   "metadata": {},
   "outputs": [
    {
     "data": {
      "text/plain": [
       "TestResults(failed=0, attempted=2)"
      ]
     },
     "execution_count": 15,
     "metadata": {},
     "output_type": "execute_result"
    }
   ],
   "source": [
    "import doctest\n",
    "\"\"\"\n",
    "  >>> print(data['normalized-losses'].iat[1])\n",
    "  122.0\n",
    "  >>> print(data['normalized-losses'].iat[15])\n",
    "  122.0\n",
    "\"\"\"\n",
    "\n",
    "doctest.testmod()"
   ]
  },
  {
   "cell_type": "code",
   "execution_count": 16,
   "id": "0da17fa6-127f-435d-967b-f61f710c5a50",
   "metadata": {},
   "outputs": [
    {
     "name": "stdout",
     "output_type": "stream",
     "text": [
      "**********************************************************************\n",
      "File \"__main__\", line 5, in __main__\n",
      "Failed example:\n",
      "    print(data['bore'].iat[57])\n",
      "Expected:\n",
      "    3.62\n",
      "Got:\n",
      "    3.39\n",
      "\u001b[31m**********************************************************************\u001b[0m\n",
      "1 item had failures:\n",
      "   1 of   2 in __main__\n",
      "\u001b[1;31m***Test Failed*** 1 failure\u001b[0m.\n"
     ]
    },
    {
     "data": {
      "text/plain": [
       "TestResults(failed=1, attempted=2)"
      ]
     },
     "execution_count": 16,
     "metadata": {},
     "output_type": "execute_result"
    }
   ],
   "source": [
    "import doctest\n",
    "\"\"\"\n",
    "  >>> print(data['num-of-doors'].iat[27])\n",
    "  four\n",
    "  >>> print(data['bore'].iat[57])\n",
    "  3.62\n",
    "\"\"\"\n",
    "\n",
    "doctest.testmod()"
   ]
  },
  {
   "cell_type": "code",
   "execution_count": 17,
   "id": "a574c808-69ec-4bef-b5ca-7975aadf7803",
   "metadata": {},
   "outputs": [
    {
     "data": {
      "text/plain": [
       "TestResults(failed=0, attempted=1)"
      ]
     },
     "execution_count": 17,
     "metadata": {},
     "output_type": "execute_result"
    }
   ],
   "source": [
    "import doctest\n",
    "\"\"\"\n",
    "  >>> print(len(data['price']))\n",
    "  201\n",
    "\"\"\"\n",
    "\n",
    "doctest.testmod()"
   ]
  },
  {
   "cell_type": "code",
   "execution_count": null,
   "id": "5b72c38e-6083-4d91-9c46-3b535f3e4d66",
   "metadata": {},
   "outputs": [],
   "source": []
  }
 ],
 "metadata": {
  "kernelspec": {
   "display_name": "Python global_env",
   "language": "python",
   "name": "global_env"
  },
  "language_info": {
   "codemirror_mode": {
    "name": "ipython",
    "version": 3
   },
   "file_extension": ".py",
   "mimetype": "text/x-python",
   "name": "python",
   "nbconvert_exporter": "python",
   "pygments_lexer": "ipython3",
   "version": "3.13.2"
  }
 },
 "nbformat": 4,
 "nbformat_minor": 5
}

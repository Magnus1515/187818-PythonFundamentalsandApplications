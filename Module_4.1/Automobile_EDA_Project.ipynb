{
  "cells": [
    {
      "cell_type": "markdown",
      "metadata": {
        "id": "eUMkS64iV0hZ"
      },
      "source": [
        "**Copyright: © NexStream Technical Education, LLC**.  \n",
        "All rights reserved\n",
        "\n"
      ]
    },
    {
      "cell_type": "markdown",
      "metadata": {
        "id": "rXdrZ6tv2RCd"
      },
      "source": [
        "# **Part 1:  Cleaning and Preprocessing Automobile Data**\n",
        "In this project, we will investigate automobile features from a dataset and preprocess the data.\n",
        "\n",
        "As we clean and explore this data, you will gain practice with:\n",
        "\n",
        "*  Reading simple csv files and using Pandas, Numpy, and Matplotlib\n",
        "*  Working with data at different levels of granularity\n",
        "*  Identifying the type of data collected, missing values, anomalies, etc.\n",
        "*  Exploring characteristics and distributions of individual variablesa\n",
        "\n",
        "The following list provides several example dataset links.  (these will be useful for future project assignments).\n",
        "- UCI: https://archive.ics.uci.edu/\n",
        "- Wikipedia:  https://en.wikipedia.org/wiki/List_of_datasets_for_machine-learning_research/\n",
        "- Kaggle:  https://www.kaggle.com/datasets/\n",
        "- National Geospatial Program:  https://www.usgs.gov/core-science-systems/national-geospatial-program/data-tools/\n",
        "- Seattle Central College Quant Environmental learning Project:  https://seattlecentral.edu/qelp/Data.html\n",
        "- Carnegie Mellon:  http://lib.stat.cmu.edu/datasets/\n",
        "- NIST:  https://www.itl.nist.gov/div898/strd/\n",
        "- MNIST:  https://chromium.googlesource.com/external/github.com/tensorflow/tensorflow/+/r0.7/tensorflow/g3doc/tutorials/mnist/download/index.md\n",
        "\n",
        "\n",
        "The following instructions are identified as Steps in the text cells preceding their corresponding code cell. Read through the instructions and write/fill-in the appropriate code in the cells.   \n",
        "\n",
        "Make sure your code passes all the embedded doctests."
      ]
    },
    {
      "cell_type": "markdown",
      "metadata": {
        "id": "kXUObCU4Ogr7"
      },
      "source": [
        "**Step 1:**  \n",
        "Mount your Google drive and copy the provided files to your working directory.  Alternatively, you can read the file directly from the link provided in the cell below.\n",
        "- imports-85.csv\n",
        "- imports-85.names\n"
      ]
    },
    {
      "cell_type": "code",
      "execution_count": 48,
      "metadata": {},
      "outputs": [],
      "source": [
        "import numpy as np\n",
        "import pandas as pd\n",
        "import matplotlib as plt\n",
        "import math "
      ]
    },
    {
      "cell_type": "code",
      "execution_count": 49,
      "metadata": {
        "id": "WaKBTx2KPMO_"
      },
      "outputs": [
        {
          "name": "stdout",
          "output_type": "stream",
          "text": [
            "   symboling normalized-losses         make fuel-type aspiration num-of-doors  \\\n",
            "0          3                 ?  alfa-romero       gas        std          two   \n",
            "1          3                 ?  alfa-romero       gas        std          two   \n",
            "2          1                 ?  alfa-romero       gas        std          two   \n",
            "3          2               164         audi       gas        std         four   \n",
            "4          2               164         audi       gas        std         four   \n",
            "\n",
            "    body-style drive-wheels engine-location  wheel-base  ...  engine-size  \\\n",
            "0  convertible          rwd           front        88.6  ...          130   \n",
            "1  convertible          rwd           front        88.6  ...          130   \n",
            "2    hatchback          rwd           front        94.5  ...          152   \n",
            "3        sedan          fwd           front        99.8  ...          109   \n",
            "4        sedan          4wd           front        99.4  ...          136   \n",
            "\n",
            "   fuel-system  bore  stroke compression-ratio horsepower  peak-rpm city-mpg  \\\n",
            "0         mpfi  3.47    2.68               9.0        111      5000       21   \n",
            "1         mpfi  3.47    2.68               9.0        111      5000       21   \n",
            "2         mpfi  2.68    3.47               9.0        154      5000       19   \n",
            "3         mpfi  3.19    3.40              10.0        102      5500       24   \n",
            "4         mpfi  3.19    3.40               8.0        115      5500       18   \n",
            "\n",
            "  highway-mpg  price  \n",
            "0          27  13495  \n",
            "1          27  16500  \n",
            "2          26  16500  \n",
            "3          30  13950  \n",
            "4          22  17450  \n",
            "\n",
            "[5 rows x 26 columns]\n"
          ]
        }
      ],
      "source": [
        "#Mount your google drive\n",
        "#YOUR CODE HERE\n",
        "data = pd.read_csv('imports-85.csv', names=[\"symboling\", \"normalized-losses\", \"make\", \"fuel-type\", \"aspiration\",\n",
        "         \"num-of-doors\", \"body-style\", \"drive-wheels\", \"engine-location\", \"wheel-base\",\n",
        "        \"length\", \"width\", \"height\", \"curb-weight\", \"engine-type\", \"num-of-cylinders\",\n",
        "        \"engine-size\", \"fuel-system\", \"bore\", \"stroke\", \"compression-ratio\", \"horsepower\",\n",
        "        \"peak-rpm\", \"city-mpg\", \"highway-mpg\", \"price\"])\n",
        "print(data.head(5))\n",
        "\n"
      ]
    },
    {
      "cell_type": "markdown",
      "metadata": {
        "id": "5aTZlcwI9uG_"
      },
      "source": [
        "**Step 2:**  \n",
        "Import all relevant python libraries:\n",
        "- numpy\n",
        "- pandas\n",
        "- matplotlib (pyplot)"
      ]
    },
    {
      "cell_type": "markdown",
      "metadata": {
        "id": "MjgUvoRnnyID"
      },
      "source": [
        "**Step 3:**  \n",
        "Read the auto data into a Pandas dataframe.  \n",
        "NAME YOUR DATAFRAME VARIABLE '**data**' to be compatible with the embedded doctests.  Read the provided csv file directly.\n",
        "\n",
        "Note, you should set up a list of column headers according to the imports-85.names file.   \n",
        "Examine the first 5 rows of the dataset, and check out the dataset statistics.\n",
        "\n",
        "Hints:\n",
        "- https://pandas.pydata.org/docs/reference/api/pandas.read_csv.html\n",
        "- https://pandas.pydata.org/docs/reference/api/pandas.DataFrame.head.html\n",
        "- https://pandas.pydata.org/docs/reference/api/pandas.DataFrame.describe.html\n",
        "\n",
        "\n",
        "\n",
        "\n",
        "\n"
      ]
    },
    {
      "cell_type": "code",
      "execution_count": 50,
      "metadata": {
        "id": "f7wO5oQvvLp8"
      },
      "outputs": [
        {
          "name": "stdout",
          "output_type": "stream",
          "text": [
            "   symboling normalized-losses         make fuel-type aspiration num-of-doors  \\\n",
            "0          3               NaN  alfa-romero       gas        std          two   \n",
            "\n",
            "    body-style drive-wheels engine-location  wheel-base  ...  engine-size  \\\n",
            "0  convertible          rwd           front        88.6  ...          130   \n",
            "\n",
            "   fuel-system  bore  stroke compression-ratio horsepower  peak-rpm city-mpg  \\\n",
            "0         mpfi  3.47    2.68               9.0        111      5000       21   \n",
            "\n",
            "  highway-mpg  price  \n",
            "0          27  13495  \n",
            "\n",
            "[1 rows x 26 columns]\n"
          ]
        }
      ],
      "source": [
        "#Read the dataset from the provided csv file\n",
        "#Create a list of the headers according to the imports-85.names file.\n",
        "#YOUR CODE HERE\n",
        "\n",
        "data.replace('?', np.nan, inplace=True)\n",
        "\n",
        "print(data.head(1))\n"
      ]
    },
    {
      "cell_type": "markdown",
      "metadata": {
        "id": "VR2voV2ozAjl"
      },
      "source": [
        "**Step 4:**  \n",
        "Replace all the ?'s in the dataset with NaN.  \n",
        "Perform the operation 'in-place', meaning it replaces within the same object (not in another data structure).  \n",
        "Examine the first 5 rows to confirm your replacement.   \n",
        "Make sure your code passes the doctest.\n",
        "\n",
        "Hint:  https://pandas.pydata.org/docs/reference/api/pandas.DataFrame.replace.html\n",
        "\n"
      ]
    },
    {
      "cell_type": "code",
      "execution_count": 51,
      "metadata": {
        "id": "d1_JgtGizqZ3"
      },
      "outputs": [
        {
          "data": {
            "text/plain": [
              "TestResults(failed=0, attempted=3)"
            ]
          },
          "execution_count": 51,
          "metadata": {},
          "output_type": "execute_result"
        }
      ],
      "source": [
        "#Replace all ? with NaN\n",
        "#Do it \"inplace\"- replaces in the same object\n",
        "#YOUR CODE HERE\n",
        "\n",
        "\n",
        "#Do not modify the test code below this line\n",
        "import doctest\n",
        "\"\"\"\n",
        "  >>> print(data['normalized-losses'].iat[1])\n",
        "  nan\n",
        "  >>> print(data['peak-rpm'].iat[131])\n",
        "  nan\n",
        "  >>> print(data['horsepower'].iat[130])\n",
        "  nan\n",
        "\"\"\"\n",
        "\n",
        "doctest.testmod()"
      ]
    },
    {
      "cell_type": "markdown",
      "metadata": {
        "id": "yYi0hOMpzLYL"
      },
      "source": [
        "**Step 5:**  \n",
        "Find and count the missing data (i.e. the entries that were changed to NaN in the previous step).  \n",
        "Suggested method:\n",
        "*   First mark the missing data with \"True\"\n",
        "*   Count the \"True\" tags in a loop\n",
        "\n",
        "Make sure your code passes the doctest.\n",
        "\n",
        "Hints:\n",
        "- https://pandas.pydata.org/docs/reference/api/pandas.isnull.html\n",
        "- https://pandas.pydata.org/docs/reference/api/pandas.Series.value_counts.html\n"
      ]
    },
    {
      "cell_type": "code",
      "execution_count": 52,
      "metadata": {
        "id": "A_ykFPDt16fD"
      },
      "outputs": [
        {
          "name": "stdout",
          "output_type": "stream",
          "text": [
            "column normalized-losses: 41\n",
            "column num-of-doors: 2\n",
            "column bore: 4\n",
            "column stroke: 4\n",
            "column horsepower: 2\n",
            "column peak-rpm: 2\n",
            "column price: 4\n"
          ]
        },
        {
          "data": {
            "text/plain": [
              "TestResults(failed=0, attempted=4)"
            ]
          },
          "execution_count": 52,
          "metadata": {},
          "output_type": "execute_result"
        }
      ],
      "source": [
        "#Detect and count the missing data\n",
        "#YOUR CODE HERE\n",
        "\n",
        "missing_data = data.isnull()\n",
        "for i in data.columns:\n",
        "    count = missing_data[i].sum()\n",
        "    if count > 0:\n",
        "        print(f\"column {i}: {count}\")\n",
        "#Do not modify the test code below this line\n",
        "import doctest\n",
        "\"\"\"\n",
        "  >>> print(missing_data['normalized-losses'].value_counts())\n",
        "  normalized-losses\n",
        "  False    164\n",
        "  True      41\n",
        "  Name: count, dtype: int64\n",
        "  >>> print(missing_data['symboling'].value_counts())\n",
        "  symboling\n",
        "  False    205\n",
        "  Name: count, dtype: int64\n",
        "  >>> print(missing_data['bore'].value_counts())\n",
        "  bore\n",
        "  False    201\n",
        "  True       4\n",
        "  Name: count, dtype: int64\n",
        "  >>> print(missing_data['horsepower'].value_counts())\n",
        "  horsepower\n",
        "  False    203\n",
        "  True       2\n",
        "  Name: count, dtype: int64\n",
        "\"\"\"\n",
        "\n",
        "doctest.testmod()"
      ]
    },
    {
      "cell_type": "markdown",
      "metadata": {
        "id": "-NVVX1_SzOJ5"
      },
      "source": [
        "**Step 6:**  \n",
        "Now in order to perform an modeling on our dataset, we'll need to account for the missing data.  Some options include removing the row altogether, but this may also delete other meaningful data, so more common approaches include replacing missing data with a statistic, such as with the mean of the feature column or replacing it with the most common option of the feature.  \n",
        "Perform the following operations:\n",
        "1.   Replace missing data in the 'normalized-losses' feature with its mean.\n",
        "2.   Replace missing data 'num-of-doors' and 'bore' features with the most common option in their respective feature column.\n",
        "3.   Drop the example ROW if the 'price' feature is missing for that example.  Note, axis=0 drops whole row, axis=1 drops whole column\n",
        "\n",
        "Make sure your code passes the doctest.\n",
        "\n",
        "\n",
        "Hints:\n",
        "- https://pandas.pydata.org/docs/reference/api/pandas.DataFrame.dropna.html\n",
        "- https://pandas.pydata.org/docs/reference/api/pandas.DataFrame.mean.html\n",
        "- https://pandas.pydata.org/docs/reference/api/pandas.Series.value_counts.html\n",
        "- https://pandas.pydata.org/docs/reference/api/pandas.DataFrame.idxmax.html\n",
        "\n"
      ]
    },
    {
      "cell_type": "code",
      "execution_count": 53,
      "metadata": {
        "id": "rknq_HbH278x"
      },
      "outputs": [
        {
          "name": "stdout",
          "output_type": "stream",
          "text": [
            "3.62\n"
          ]
        },
        {
          "data": {
            "text/plain": [
              "TestResults(failed=0, attempted=2)"
            ]
          },
          "execution_count": 53,
          "metadata": {},
          "output_type": "execute_result"
        }
      ],
      "source": [
        "#Replace missing data in the 'normalized-losses' feature with its mean.\n",
        "#YOUR CODE HERE\n",
        "data['bore'] = pd.to_numeric(data['bore'], errors = 'coerce')\n",
        "most_common_bore = data['bore'].value_counts().idxmax()\n",
        "print(most_common_bore)\n",
        "data['bore'] = data['bore'].fillna(most_common_bore)\n",
        "\n",
        "data['normalized-losses'] = pd.to_numeric(data['normalized-losses'], errors = 'coerce')\n",
        "mean_normalized_losses = data['normalized-losses'].mean()\n",
        "data['normalized-losses'] = data['normalized-losses'].fillna(mean_normalized_losses)\n",
        "\n",
        "\n",
        "#Do not modify the test code below this line\n",
        "import doctest\n",
        "\"\"\"\n",
        "  >>> print(data['normalized-losses'].iat[1])\n",
        "  122.0\n",
        "  >>> print(data['normalized-losses'].iat[15])\n",
        "  122.0\n",
        "\"\"\"\n",
        "\n",
        "doctest.testmod()"
      ]
    },
    {
      "cell_type": "code",
      "execution_count": 54,
      "metadata": {
        "id": "ggVP0XY44YXm"
      },
      "outputs": [
        {
          "name": "stdout",
          "output_type": "stream",
          "text": [
            "['two' 'four']\n"
          ]
        },
        {
          "data": {
            "text/plain": [
              "TestResults(failed=0, attempted=2)"
            ]
          },
          "execution_count": 54,
          "metadata": {},
          "output_type": "execute_result"
        }
      ],
      "source": [
        "#Replace missing data 'num-of-doors' and 'bore' features with the most common option in their respective feature column.\n",
        "#YOUR CODDE HERE\n",
        "most_common_doors = data['num-of-doors'].value_counts().idxmax()\n",
        "data['num-of-doors'] = data['num-of-doors'].fillna(most_common_doors)\n",
        "\n",
        "\n",
        "print(data['num-of-doors'].unique())\n",
        "#Do not modify the test code below this line\n",
        "import doctest\n",
        "\"\"\"\n",
        "  >>> print(data['num-of-doors'].iat[27])\n",
        "  four\n",
        "  >>> print(data['bore'].iat[57])\n",
        "  3.62\n",
        "\"\"\"\n",
        "\n",
        "doctest.testmod()"
      ]
    },
    {
      "cell_type": "code",
      "execution_count": 55,
      "metadata": {
        "id": "LbnyStVIDRLK"
      },
      "outputs": [
        {
          "name": "stdout",
          "output_type": "stream",
          "text": [
            "missing data: symboling            0\n",
            "normalized-losses    0\n",
            "make                 0\n",
            "fuel-type            0\n",
            "aspiration           0\n",
            "num-of-doors         0\n",
            "body-style           0\n",
            "drive-wheels         0\n",
            "engine-location      0\n",
            "wheel-base           0\n",
            "length               0\n",
            "width                0\n",
            "height               0\n",
            "curb-weight          0\n",
            "engine-type          0\n",
            "num-of-cylinders     0\n",
            "engine-size          0\n",
            "fuel-system          0\n",
            "bore                 0\n",
            "stroke               4\n",
            "compression-ratio    0\n",
            "horsepower           2\n",
            "peak-rpm             2\n",
            "city-mpg             0\n",
            "highway-mpg          0\n",
            "price                0\n",
            "dtype: int64\n",
            "Index(['symboling', 'normalized-losses', 'make', 'fuel-type', 'aspiration',\n",
            "       'num-of-doors', 'body-style', 'drive-wheels', 'engine-location',\n",
            "       'wheel-base', 'length', 'width', 'height', 'curb-weight', 'engine-type',\n",
            "       'num-of-cylinders', 'engine-size', 'fuel-system', 'bore', 'stroke',\n",
            "       'compression-ratio', 'horsepower', 'peak-rpm', 'city-mpg',\n",
            "       'highway-mpg', 'price'],\n",
            "      dtype='object')\n"
          ]
        },
        {
          "data": {
            "text/plain": [
              "TestResults(failed=0, attempted=1)"
            ]
          },
          "execution_count": 55,
          "metadata": {},
          "output_type": "execute_result"
        }
      ],
      "source": [
        "#Drop the example ROW if the 'price' feature is missing for that example.\n",
        "#YOUR CODE HERE\n",
        "\n",
        "\n",
        "data = data.dropna(subset=['price'], axis = 0)\n",
        "print(f'missing data: {data.isnull().sum()}')\n",
        "print(data.columns)\n",
        "#Do not modify the test code below this line\n",
        "import doctest\n",
        "\"\"\"\n",
        "  >>> print(len(data['price']))\n",
        "  201\n",
        "\"\"\"\n",
        "\n",
        "doctest.testmod()"
      ]
    },
    {
      "cell_type": "markdown",
      "metadata": {
        "id": "HJx6QsbfzQfV"
      },
      "source": [
        "**Step 7:**  \n",
        "We typically want any categorical data with string data types to be formatted as objects when preparing data for our machine learning model.  Also, any numeric values should be int or float types.  Finally, columns that have IDs typed as objects but are actually numeric values should be converted to their numeric types.  Perform the following on your dataset.\n",
        "*  Print out the data types\n",
        "*  Change data types for numeric columns that are identified as objects\n",
        "\n",
        "Compare the updated data types to the original print out to make sure they were updated.   \n",
        "Make sure your code passes the doctest.\n",
        "\n",
        "Hints:\n",
        "- bore, stroke, normalized-losses, peak-rpm all need to change.  Note, you will need to replace the NaNs as needed first (replace with mean of column).\n",
        "- https://pandas.pydata.org/docs/reference/api/pandas.DataFrame.dtypes.html\n",
        "- https://pandas.pydata.org/docs/reference/api/pandas.DataFrame.astype.html\n",
        "- https://pandas.pydata.org/docs/reference/api/pandas.DataFrame.mean.html\n",
        "- https://pandas.pydata.org/docs/reference/api/pandas.DataFrame.replace.html\n",
        "\n",
        "\n"
      ]
    },
    {
      "cell_type": "code",
      "execution_count": 56,
      "metadata": {
        "id": "-hU8WTL1KNjW"
      },
      "outputs": [
        {
          "data": {
            "text/plain": [
              "TestResults(failed=0, attempted=1)"
            ]
          },
          "execution_count": 56,
          "metadata": {},
          "output_type": "execute_result"
        }
      ],
      "source": [
        "#Change data types for numeric columns that are identified as objects\n",
        "#YOUR CODE HERE\n",
        "df = pd.DataFrame(data)\n",
        "\n",
        "cols_to_solve = ['stroke', 'price', 'peak-rpm', 'normalized-losses']\n",
        "\n",
        "for col in cols_to_solve:\n",
        "  data[col] = pd.to_numeric(data[col], errors='coerce')\n",
        "\n",
        "# Ensuring that column replace with Nan values with values from the column with specific float or int\n",
        "data['stroke'] = data['stroke'].fillna(data['stroke'].mean()).astype(float)\n",
        "data['price'] = data['price'].fillna(data['price'].mean()).astype(float)\n",
        "data['peak-rpm'] = data['peak-rpm'].fillna(data['peak-rpm'].mean()).astype(int)\n",
        "data['normalized-losses'] = data['normalized-losses'].fillna(data['normalized-losses'].mean()).astype(int)\n",
        "\n",
        "\n",
        "#Do not modify the test code below this line\n",
        "import doctest\n",
        "\"\"\"\n",
        "  >>> print(data[['bore', 'stroke', 'normalized-losses', 'price', 'peak-rpm']].dtypes)\n",
        "  bore                 float64\n",
        "  stroke               float64\n",
        "  normalized-losses      int64\n",
        "  price                float64\n",
        "  peak-rpm               int64\n",
        "  dtype: object\n",
        "\"\"\"\n",
        "\n",
        "doctest.testmod()"
      ]
    },
    {
      "cell_type": "markdown",
      "metadata": {
        "id": "9F-TOHVp41bB"
      },
      "source": [
        "**Step 8:**  \n",
        "Many machine learning algorithms are sensitive to features with different ranges, for example, linear regression.  So, normalization is a common practice to implement on the data.\n",
        "\n",
        "*   Normalize the 'length', 'height' and 'width' columnsa\n",
        "\n",
        "Make sure your code passes the doctest.\n",
        "\n",
        "\n",
        "Hint:  there isn't a built-in Pandas function so a simply conversion is to divide each element by the feature maximum.\n",
        "- https://pandas.pydata.org/docs/reference/api/pandas.DataFrame.max.html"
      ]
    },
    {
      "cell_type": "code",
      "execution_count": 57,
      "metadata": {
        "id": "LWBDIaexUaq_"
      },
      "outputs": [
        {
          "data": {
            "text/plain": [
              "TestResults(failed=0, attempted=6)"
            ]
          },
          "execution_count": 57,
          "metadata": {},
          "output_type": "execute_result"
        }
      ],
      "source": [
        "#Normalize the length, height, and width columns\n",
        "#Divide each element of column by its max value\n",
        "#YOUR CODE HERE\n",
        "\n",
        "data['length'] = data['length']/ data['length'].max()\n",
        "data['height'] = data['height']/ data['height'].max()\n",
        "data['width'] = data['width']/ data['width'].max()\n",
        "\n",
        "\n",
        "#Do not modify the test code below this line\n",
        "import doctest\n",
        "\"\"\"\n",
        "  >>> print(np.round(data['length'].iat[0],4))\n",
        "  0.8111\n",
        "  >>> print(np.round(data['height'].iat[27],4))\n",
        "  1.0\n",
        "  >>> print(np.round(data['width'].iat[57],4))\n",
        "  0.9236\n",
        "  >>> print(np.round(data['length'].iat[3],4))\n",
        "  0.8486\n",
        "  >>> print(np.round(data['height'].iat[85],4))\n",
        "  0.8629\n",
        "  >>> print(np.round(data['width'].iat[163],4))\n",
        "  0.9111\n",
        "\"\"\"\n",
        "\n",
        "doctest.testmod()"
      ]
    },
    {
      "cell_type": "markdown",
      "metadata": {
        "id": "Th0UMoym43O1"
      },
      "source": [
        "**Step 9:**  \n",
        "Data visualization - data binning\n",
        "\n",
        "*   Generate a histogram plot of the horsepower data into high, med, low bins\n",
        "*   Take a screenshot of your plot and paste it into a document to submit with this assignment.  Your plot should look similar to this:\n",
        "\n",
        "![alt text](https://drive.google.com/uc?id=1IHeKByfKhJOW8DG3xVMAouFgdoKhvH6t)  \n",
        "\n",
        "\n",
        "Hints:\n",
        "- First replace any NaNs with the mean of the column, and convert objects to integers\n",
        "- Group the feature into 4 different ranges:  less than 'low', between 'low' and 'med', between 'med' and 'high', and greater than 'high.\n",
        "- Count the values in each of the ranges\n",
        "- Plot the bins on a histogram\n",
        "- https://pandas.pydata.org/docs/reference/api/pandas.DataFrame.astype.html\n",
        "- https://pandas.pydata.org/docs/reference/api/pandas.DataFrame.mean.html\n",
        "- https://pandas.pydata.org/docs/reference/api/pandas.DataFrame.replace.html\n",
        "- https://numpy.org/doc/stable/reference/generated/numpy.linspace.html\n",
        "- https://pandas.pydata.org/docs/reference/api/pandas.cut.html\n",
        "- https://matplotlib.org/stable/api/_as_gen/matplotlib.pyplot.hist.html\n"
      ]
    },
    {
      "cell_type": "code",
      "execution_count": 67,
      "metadata": {
        "id": "EGEQHkifWkqj"
      },
      "outputs": [
        {
          "name": "stdout",
          "output_type": "stream",
          "text": [
            "0\n",
            "Series([], Name: horsepower, dtype: float64)\n"
          ]
        },
        {
          "ename": "ValueError",
          "evalue": "bins must increase monotonically.",
          "output_type": "error",
          "traceback": [
            "\u001b[31m---------------------------------------------------------------------------\u001b[39m",
            "\u001b[31mValueError\u001b[39m                                Traceback (most recent call last)",
            "\u001b[36mCell\u001b[39m\u001b[36m \u001b[39m\u001b[32mIn[67]\u001b[39m\u001b[32m, line 20\u001b[39m\n\u001b[32m     16\u001b[39m bins = np.linspace(data[\u001b[33m'\u001b[39m\u001b[33mhorsepower\u001b[39m\u001b[33m'\u001b[39m].min(), data[\u001b[33m'\u001b[39m\u001b[33mhorsepower\u001b[39m\u001b[33m'\u001b[39m].max(), \u001b[32m4\u001b[39m)\n\u001b[32m     18\u001b[39m ranges = [\u001b[33m'\u001b[39m\u001b[33mlow\u001b[39m\u001b[33m'\u001b[39m, \u001b[33m'\u001b[39m\u001b[33mmed\u001b[39m\u001b[33m'\u001b[39m, \u001b[33m'\u001b[39m\u001b[33mhigh\u001b[39m\u001b[33m'\u001b[39m]\n\u001b[32m---> \u001b[39m\u001b[32m20\u001b[39m data[\u001b[33m'\u001b[39m\u001b[33mhorsepower\u001b[39m\u001b[33m'\u001b[39m] = \u001b[43mpd\u001b[49m\u001b[43m.\u001b[49m\u001b[43mcut\u001b[49m\u001b[43m(\u001b[49m\u001b[43mdata\u001b[49m\u001b[43m[\u001b[49m\u001b[33;43m'\u001b[39;49m\u001b[33;43mhorsepower\u001b[39;49m\u001b[33;43m'\u001b[39;49m\u001b[43m]\u001b[49m\u001b[43m,\u001b[49m\u001b[43mbins\u001b[49m\u001b[43m \u001b[49m\u001b[43m,\u001b[49m\u001b[43m \u001b[49m\u001b[43mlabels\u001b[49m\u001b[43m=\u001b[49m\u001b[43mranges\u001b[49m\u001b[43m,\u001b[49m\u001b[43m \u001b[49m\u001b[43minclude_lowest\u001b[49m\u001b[43m=\u001b[49m\u001b[38;5;28;43;01mTrue\u001b[39;49;00m\u001b[43m)\u001b[49m\n\u001b[32m     22\u001b[39m data[\u001b[33m'\u001b[39m\u001b[33mhorsepower\u001b[39m\u001b[33m'\u001b[39m].value_counts().sort_index().plot(kind=\u001b[33m'\u001b[39m\u001b[33mbar\u001b[39m\u001b[33m'\u001b[39m)\n\u001b[32m     24\u001b[39m plt.xlabel(\u001b[33m\"\u001b[39m\u001b[33mHorsepower\u001b[39m\u001b[33m\"\u001b[39m)\n",
            "\u001b[36mFile \u001b[39m\u001b[32m/Library/Frameworks/Python.framework/Versions/3.13/lib/python3.13/site-packages/pandas/core/reshape/tile.py:255\u001b[39m, in \u001b[36mcut\u001b[39m\u001b[34m(x, bins, right, labels, retbins, precision, include_lowest, duplicates, ordered)\u001b[39m\n\u001b[32m    253\u001b[39m     bins = Index(bins)\n\u001b[32m    254\u001b[39m     \u001b[38;5;28;01mif\u001b[39;00m \u001b[38;5;129;01mnot\u001b[39;00m bins.is_monotonic_increasing:\n\u001b[32m--> \u001b[39m\u001b[32m255\u001b[39m         \u001b[38;5;28;01mraise\u001b[39;00m \u001b[38;5;167;01mValueError\u001b[39;00m(\u001b[33m\"\u001b[39m\u001b[33mbins must increase monotonically.\u001b[39m\u001b[33m\"\u001b[39m)\n\u001b[32m    257\u001b[39m fac, bins = _bins_to_cuts(\n\u001b[32m    258\u001b[39m     x_idx,\n\u001b[32m    259\u001b[39m     bins,\n\u001b[32m   (...)\u001b[39m\u001b[32m    265\u001b[39m     ordered=ordered,\n\u001b[32m    266\u001b[39m )\n\u001b[32m    268\u001b[39m \u001b[38;5;28;01mreturn\u001b[39;00m _postprocess_for_cut(fac, bins, retbins, original)\n",
            "\u001b[31mValueError\u001b[39m: bins must increase monotonically."
          ]
        }
      ],
      "source": [
        "#Create bin array with min, max and range using numpy linspace\n",
        "#and setup 3 bins (high, med, low) - 4 dividers in the histogram\n",
        "#First remove NaNs and convert objects to integers\n",
        "#Group the feature into 4 different ranges: <= 'low', >'low' && <='med', >'med'&& <='high', >'high.\n",
        "#Count the values in each of the ranges\n",
        "#Plot the bins on a histogram\n",
        "#YOUR CODE HERE\n",
        "data['horsepower'] = data['horsepower'].replace('?', np.nan)\n",
        "data = data[pd.to_numeric(data['horsepower'], errors='coerce').notnull()]\n",
        "data['horsepower'] = data['horsepower'].astype(float)\n",
        "data['horsepower'].fillna(data['horsepower'].mean())\n",
        "\n",
        "print(data['horsepower'].isnull().sum())\n",
        "print(data['horsepower'].head())\n",
        "\n",
        "bins = np.linspace(data['horsepower'].min(), data['horsepower'].max(), 4)\n",
        "\n",
        "ranges = ['low', 'med', 'high']\n",
        "\n",
        "data['horsepower'] = pd.cut(data['horsepower'],bins , labels=ranges, include_lowest=True)\n",
        "\n",
        "data['horsepower'].value_counts().sort_index().plot(kind='bar')\n",
        "\n",
        "plt.xlabel(\"Horsepower\")\n",
        "plt.ylabel(\"Count\")\n",
        "plt.title(\"Binned Horsepower Distribution\")\n",
        "plt.show()\n",
        "\n"
      ]
    },
    {
      "cell_type": "markdown",
      "metadata": {
        "id": "7_7LjPHgaKO-"
      },
      "source": [
        "**Step 10:**  \n",
        "Write the preprocessed dataset to a csv file\n",
        "\n",
        "Hint:\n",
        "- https://pandas.pydata.org/docs/reference/api/pandas.DataFrame.to_csv.html\n",
        "- Use '!cp' to copy the file to a folder on your Google drive\n",
        "\n",
        "\n"
      ]
    },
    {
      "cell_type": "code",
      "execution_count": 59,
      "metadata": {
        "id": "Z37Ek3p9bA-8"
      },
      "outputs": [],
      "source": [
        "#Write preprocessed dataset to csv file\n",
        "#YOUR CODE HERE\n",
        "\n",
        "\n",
        "data.to_csv(\"new_data.csv\", index=False)"
      ]
    },
    {
      "cell_type": "markdown",
      "metadata": {
        "id": "BOXA_6YABxiX"
      },
      "source": [
        "# **Part 2:  Modeling your Pre-processed Automobile Data**\n",
        "Now that you have cleaned your dataset you are ready to apply a machine learning model.\n",
        "\n",
        "<br>\n",
        "\n",
        "**Simple Linear Regression - Manual Calculation**  \n",
        "\n",
        "In this part, you will perform a manual calculation of the coefficients used in a simple linear regression model for a given dataset.  For now, just follow the steps outlined in the following procedure - we will discuss Regression in depth in the Machine Learning Algorithms course.\n",
        "\n",
        "We will attempt to fit a simple linear regression model using 2 features from the cleaned dataset.  The model \"score\" will help us determine how well one variable can predict another.\n",
        "\n",
        "Please complete the following steps in your Colab Script.  The reference script below provides template code and hints to help with each step.  \n",
        "\n",
        "-  **Step 1**:  Create a function which MANUALLY (using the equations below) calculates the coefficients for a simple linear regression model.\n",
        "  - Inputs:  X = dataset independent variable, y = dataset dependent variable\n",
        "  - Return: coefficients b0, and b1\n",
        "\n",
        "  (NOTE, you may NOT use any machine learning library models for this step - you must calculate the parameters use the equations shown).  \n",
        "\n",
        "$$\\hat y = b_0+b_1x_1$$  \n",
        "$$b_1=\\frac {\\sum\n",
        "(x_n-\\bar x)(y_n-\\bar y)} {\\sum\n",
        "(x_n-\\bar x)^2}\n",
        "$$  \n",
        "$$b_0=\\bar y-b_1\\bar x$$  \n",
        "\n",
        "-  **Step 2**: Create a function which generates a predicted output y_hat using the prediction equation from the previous step.\n",
        "  - Inputs:  X = dataset independent variable, coefs = regression model coefficients (b0, b1)\n",
        "  - Return: predicted output y_hat\n",
        "-  **Step 3**: Create a function which plots the dataset (X, y) and the calculated regression line (equation of the prediction line y_hat)\n",
        "  - Inputs:  X = dataset independent variable, y = dataset dependent variable, y_hat = predicted output\n",
        "  - Return: none\n",
        "-  **Step 4**:  Create a function which calculates the performance using R-squared using sklearn r2_score function (you may use the sklearn library for this step). Read the documentation on this function to get a feel for the range and interpretation of this score.  We will discuss R-squared scores in detail when covering Regression, but for now, you may simply call the sklearn function. See https://scikit-learn.org/stable/modules/generated/sklearn.metrics.r2_score.html\n",
        "  - Inputs: y = actual dependent variables, y_hat = predicted output based on calculated regression line\n",
        "  - Return: R_squared value\n",
        "-  **Step 5**:  Confirm your calculated coefficients and R-squared performance metric using the embedded doctest module.  Record your regression equation.\n",
        "The doctest will attempt to call your plot function and package it into a set of subplots, which should like the following:\n",
        "<br>\n",
        "\n",
        "![alt text](https://drive.google.com/uc?id=1lntqgvABAlQUCyH0gBXc0ukb4kOUkGJu)   \n",
        "\n",
        "-  **Step 6**:  Reflect on the performance of your model.  What does the R-squared parameter tell you about the properties of this dataset and your simple linear prediction?  Which of the independent variables best predicted the normalized-losses variable?  Given the R-squared scores you saw, is this a good model?\n"
      ]
    },
    {
      "cell_type": "code",
      "execution_count": 65,
      "metadata": {
        "id": "XESp9Oy-Bxih"
      },
      "outputs": [
        {
          "data": {
            "image/png": "[encoded data removed]",
            "text/plain": [
              "<Figure size 1500x300 with 1 Axes>"
            ]
          },
          "metadata": {},
          "output_type": "display_data"
        },
        {
          "data": {
            "image/png": "[encoded data removed]",
            "text/plain": [
              "<Figure size 640x480 with 1 Axes>"
            ]
          },
          "metadata": {},
          "output_type": "display_data"
        },
        {
          "data": {
            "image/png": "[encoded data removed]",
            "text/plain": [
              "<Figure size 640x480 with 1 Axes>"
            ]
          },
          "metadata": {},
          "output_type": "display_data"
        },
        {
          "data": {
            "image/png": "[encoded data removed]",
            "text/plain": [
              "<Figure size 640x480 with 1 Axes>"
            ]
          },
          "metadata": {},
          "output_type": "display_data"
        },
        {
          "name": "stdout",
          "output_type": "stream",
          "text": [
            "**********************************************************************\n",
            "File \"__main__\", line 7, in __main__\n",
            "Failed example:\n",
            "    print(np.round(simple_LR_coefs(X_test[1], y), 5))\n",
            "Expected:\n",
            "    [113.214    10.49573]\n",
            "Got:\n",
            "    [113.19897  10.51669]\n",
            "**********************************************************************\n",
            "File \"__main__\", line 11, in __main__\n",
            "Failed example:\n",
            "    print(np.round(simple_LR_coefs(X_test[2], y), 5))\n",
            "Expected:\n",
            "    [102.76122   0.18607]\n",
            "Got:\n",
            "    [nan nan]\n",
            "**********************************************************************\n",
            "File \"__main__\", line 13, in __main__\n",
            "Failed example:\n",
            "    print(np.round(score(y, prediction(X_test[2], (simple_LR_coefs(X_test[2], y)))), 5))\n",
            "Exception raised:\n",
            "    Traceback (most recent call last):\n",
            "      File \"/Library/Frameworks/Python.framework/Versions/3.13/lib/python3.13/doctest.py\", line 1395, in __run\n",
            "        exec(compile(example.source, filename, \"single\",\n",
            "        ~~~~^^^^^^^^^^^^^^^^^^^^^^^^^^^^^^^^^^^^^^^^^^^^\n",
            "                     compileflags, True), test.globs)\n",
            "                     ^^^^^^^^^^^^^^^^^^^^^^^^^^^^^^^^\n",
            "      File \"<doctest __main__[5]>\", line 1, in <module>\n",
            "        print(np.round(score(y, prediction(X_test[2], (simple_LR_coefs(X_test[2], y)))), 5))\n",
            "                       ~~~~~^^^^^^^^^^^^^^^^^^^^^^^^^^^^^^^^^^^^^^^^^^^^^^^^^^^^^^^^^^^\n",
            "      File \"/var/folders/7k/pb8_z_1d101fs7dlwbfbhtnm0000gn/T/ipykernel_65943/4011319620.py\", line 80, in score\n",
            "        return r2_score(y, y_hat)\n",
            "      File \"/Library/Frameworks/Python.framework/Versions/3.13/lib/python3.13/site-packages/sklearn/utils/_param_validation.py\", line 216, in wrapper\n",
            "        return func(*args, **kwargs)\n",
            "      File \"/Library/Frameworks/Python.framework/Versions/3.13/lib/python3.13/site-packages/sklearn/metrics/_regression.py\", line 1257, in r2_score\n",
            "        _check_reg_targets_with_floating_dtype(\n",
            "        ~~~~~~~~~~~~~~~~~~~~~~~~~~~~~~~~~~~~~~^\n",
            "            y_true, y_pred, sample_weight, multioutput, xp=xp\n",
            "            ^^^^^^^^^^^^^^^^^^^^^^^^^^^^^^^^^^^^^^^^^^^^^^^^^\n",
            "        )\n",
            "        ^\n",
            "      File \"/Library/Frameworks/Python.framework/Versions/3.13/lib/python3.13/site-packages/sklearn/metrics/_regression.py\", line 198, in _check_reg_targets_with_floating_dtype\n",
            "        y_type, y_true, y_pred, multioutput = _check_reg_targets(\n",
            "                                              ~~~~~~~~~~~~~~~~~~^\n",
            "            y_true, y_pred, multioutput, dtype=dtype_name, xp=xp\n",
            "            ^^^^^^^^^^^^^^^^^^^^^^^^^^^^^^^^^^^^^^^^^^^^^^^^^^^^\n",
            "        )\n",
            "        ^\n",
            "      File \"/Library/Frameworks/Python.framework/Versions/3.13/lib/python3.13/site-packages/sklearn/metrics/_regression.py\", line 106, in _check_reg_targets\n",
            "        y_pred = check_array(y_pred, ensure_2d=False, dtype=dtype)\n",
            "      File \"/Library/Frameworks/Python.framework/Versions/3.13/lib/python3.13/site-packages/sklearn/utils/validation.py\", line 1107, in check_array\n",
            "        _assert_all_finite(\n",
            "        ~~~~~~~~~~~~~~~~~~^\n",
            "            array,\n",
            "            ^^^^^^\n",
            "        ...<2 lines>...\n",
            "            allow_nan=ensure_all_finite == \"allow-nan\",\n",
            "            ^^^^^^^^^^^^^^^^^^^^^^^^^^^^^^^^^^^^^^^^^^^\n",
            "        )\n",
            "        ^\n",
            "      File \"/Library/Frameworks/Python.framework/Versions/3.13/lib/python3.13/site-packages/sklearn/utils/validation.py\", line 120, in _assert_all_finite\n",
            "        _assert_all_finite_element_wise(\n",
            "        ~~~~~~~~~~~~~~~~~~~~~~~~~~~~~~~^\n",
            "            X,\n",
            "            ^^\n",
            "        ...<4 lines>...\n",
            "            input_name=input_name,\n",
            "            ^^^^^^^^^^^^^^^^^^^^^^\n",
            "        )\n",
            "        ^\n",
            "      File \"/Library/Frameworks/Python.framework/Versions/3.13/lib/python3.13/site-packages/sklearn/utils/validation.py\", line 169, in _assert_all_finite_element_wise\n",
            "        raise ValueError(msg_err)\n",
            "    ValueError: Input contains NaN.\n",
            "**********************************************************************\n",
            "File \"__main__\", line 15, in __main__\n",
            "Failed example:\n",
            "    print(np.round(simple_LR_coefs(X_test[3], y), 5))\n",
            "Expected:\n",
            "    [112.00354  11.88928]\n",
            "Got:\n",
            "    [111.95715  11.96723]\n",
            "**********************************************************************\n",
            "File \"__main__\", line 17, in __main__\n",
            "Failed example:\n",
            "    print(np.round(score(y, prediction(X_test[3], (simple_LR_coefs(X_test[3], y)))), 5))\n",
            "Expected:\n",
            "    0.2174\n",
            "Got:\n",
            "    0.21883\n",
            "\u001b[31m**********************************************************************\u001b[0m\n",
            "1 item had failures:\n",
            "   5 of   8 in __main__\n",
            "\u001b[1;31m***Test Failed*** 5 failures\u001b[0m.\n"
          ]
        },
        {
          "data": {
            "text/plain": [
              "TestResults(failed=5, attempted=8)"
            ]
          },
          "execution_count": 65,
          "metadata": {},
          "output_type": "execute_result"
        }
      ],
      "source": [
        "import numpy as np\n",
        "import matplotlib.pyplot as plt\n",
        "from sklearn.metrics import r2_score\n",
        "\n",
        "\n",
        "#Step 1:  Create a function which MANUALLY (using the equations) calculates the\n",
        "#         coefficients for a simple linear regression model.\n",
        "#         Your function must input numpy arrays for the X and y variables and return b0 and b1.\n",
        "#         Your function MUST use equations shown in the text cell above.\n",
        "#         (i.e. - you may not use a Machine Learning library API for this step,\n",
        "#                 calculate the parameters use the equations above).\n",
        "#         Inputs:  X = dataset independent variable, y = dataset dependent variable\n",
        "#         Return: coefficients b0, and b1\n",
        "numeric_cols = ['normalized-losses', 'length', 'horsepower', 'symboling']\n",
        "for col in numeric_cols:\n",
        "    data[col] = pd.to_numeric(data[col], errors='coerce')\n",
        "\n",
        "\n",
        "data.fillna(data[numeric_cols].mean(), inplace=True)\n",
        "\n",
        "X_test = [\n",
        "    data['normalized-losses'].values,\n",
        "    data['length'].values,\n",
        "    data['horsepower'].values,\n",
        "    data['symboling'].values\n",
        "]\n",
        "\n",
        "y = data['normalized-losses'].values  # Ensure y is a numpy array\n",
        "\n",
        "def simple_LR_coefs(X, y):\n",
        "  #YOUR CODE HERE\n",
        "  mean_x = np.mean(X)\n",
        "  mean_y = np.mean(y)\n",
        "  \n",
        "  numerator = np.sum((X - mean_x) * (y - mean_y))\n",
        "  denominator = np.sum((X - mean_x) ** 2)\n",
        "  \n",
        "  b1 = numerator / denominator\n",
        "  \n",
        "  b0 = mean_y - b1 * mean_x\n",
        "    \n",
        "  return b0, b1\n",
        "\n",
        "\n",
        "#Step 2:  Create a function which generates a predicted output y_hat\n",
        "#               using the prediction equation in the text cell above.\n",
        "#               Your function MUST use equations shown in the text cell above.\n",
        "#               (i.e. - you may not use a Machine Learning library API)\n",
        "#               Inputs:  X = dataset independent variable,\n",
        "#                        coefs = regression model coefficients (b0, b1)\n",
        "#               Return: predicted output y_hat\n",
        "def prediction(X, coefs):\n",
        "  #YOUR CODE HERE\n",
        "  b0, b1 = coefs\n",
        "  y_hat = X * b1 + b0\n",
        "  return y_hat\n",
        "\n",
        "\n",
        "#Step 3:  Create a function plots the dataset and the calculated regression line\n",
        "#         Inputs:  X = dataset independent variable, y = dataset dependent variable,\n",
        "#                  y_hat = predicted output\n",
        "#         Return: none\n",
        "def plot(X, y, y_hat):\n",
        "  #YOUR CODE HERE\n",
        "  plt.scatter(X, y, color='blue', label='Actual data')\n",
        "  plt.plot(X, y_hat, color='red', label='Regression line')\n",
        "  plt.xlabel('Independent Variable')\n",
        "  plt.ylabel('Dependent Variable')\n",
        "  plt.title('Actual Data vs Predicted Regression Line')\n",
        "  plt.legend()\n",
        "  plt.show()\n",
        "\n",
        "#Step 4:  Create a function which calculates the performance using R-squared using sklearn r2_score function.\n",
        "#         Inputs: y = actual dependent variables, y_hat = predicted output based on calculated regression line\n",
        "#         Return: R_squared value\n",
        "#         Hint:  see https://scikit-learn.org/stable/modules/generated/sklearn.metrics.r2_score.html\n",
        "def score(y, y_hat):\n",
        "  #YOUR CODE HERE\n",
        "  return r2_score(y, y_hat)\n",
        "\n",
        "\n",
        "\n",
        "\n",
        "#Step 5:  Run the doctest module.  DO NOT modify any code below this line!\n",
        "\n",
        "import doctest\n",
        "# X_test = np.array([data['normalized-losses'],\n",
        "#                    data['length'],\n",
        "#                    data['horsepower'],\n",
        "#                    data['symboling']])\n",
        "\n",
        "# y = data['normalized-losses']\n",
        "\n",
        "#Create subplots for test data\n",
        "plt.figure(figsize=(15,3))\n",
        "for i in range (len(X_test)):\n",
        "  plt.subplot(1, 4, i+1)\n",
        "  plot(X_test[i], y, prediction(X_test[i], (simple_LR_coefs(X_test[i], y))))\n",
        "plt.show()\n",
        "\n",
        "\"\"\"\n",
        "  >>> print(np.round(simple_LR_coefs(X_test[0], y), 5))\n",
        "  [0. 1.]\n",
        "  >>> print(np.round(score(y, prediction(X_test[0], (simple_LR_coefs(X_test[0], y)))), 5))\n",
        "  1.0\n",
        "  >>> print(np.round(simple_LR_coefs(X_test[1], y), 5))\n",
        "  [113.214    10.49573]\n",
        "  >>> print(np.round(score(y, prediction(X_test[1], (simple_LR_coefs(X_test[1], y)))), 5))\n",
        "  0.00038\n",
        "  >>> print(np.round(simple_LR_coefs(X_test[2], y), 5))\n",
        "  [102.76122   0.18607]\n",
        "  >>> print(np.round(score(y, prediction(X_test[2], (simple_LR_coefs(X_test[2], y)))), 5))\n",
        "  0.04722\n",
        "  >>> print(np.round(simple_LR_coefs(X_test[3], y), 5))\n",
        "  [112.00354  11.88928]\n",
        "  >>> print(np.round(score(y, prediction(X_test[3], (simple_LR_coefs(X_test[3], y)))), 5))\n",
        "  0.2174\n",
        "\"\"\"\n",
        "\n",
        "doctest.testmod()\n"
      ]
    }
  ],
  "metadata": {
    "colab": {
      "provenance": [],
      "toc_visible": true
    },
    "kernelspec": {
      "display_name": ".venv",
      "language": "python",
      "name": "python3"
    },
    "language_info": {
      "codemirror_mode": {
        "name": "ipython",
        "version": 3
      },
      "file_extension": ".py",
      "mimetype": "text/x-python",
      "name": "python",
      "nbconvert_exporter": "python",
      "pygments_lexer": "ipython3",
      "version": "3.13.0"
    }
  },
  "nbformat": 4,
  "nbformat_minor": 0
}

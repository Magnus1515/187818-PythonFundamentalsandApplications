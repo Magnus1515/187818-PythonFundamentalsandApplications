{
 "cells": [
  {
   "cell_type": "markdown",
   "id": "62a52424",
   "metadata": {},
   "source": [
    "**Assignment - Lists:**"
   ]
  },
  {
   "cell_type": "code",
   "execution_count": 1,
   "id": "53472417",
   "metadata": {},
   "outputs": [
    {
     "name": "stdout",
     "output_type": "stream",
     "text": [
      "An interview\n",
      "1 candidate\n"
     ]
    },
    {
     "ename": "ValueError",
     "evalue": "invalid literal for int() with base 10: ''",
     "output_type": "error",
     "traceback": [
      "\u001b[31m---------------------------------------------------------------------------\u001b[39m",
      "\u001b[31mValueError\u001b[39m                                Traceback (most recent call last)",
      "\u001b[36mCell\u001b[39m\u001b[36m \u001b[39m\u001b[32mIn[1]\u001b[39m\u001b[32m, line 7\u001b[39m\n\u001b[32m      5\u001b[39m \u001b[38;5;28mprint\u001b[39m(i+\u001b[32m1\u001b[39m,\u001b[33m\"\u001b[39m\u001b[33mcandidate\u001b[39m\u001b[33m\"\u001b[39m)\n\u001b[32m      6\u001b[39m name = (\u001b[38;5;28minput\u001b[39m(\u001b[33m\"\u001b[39m\u001b[33mWhat\u001b[39m\u001b[33m'\u001b[39m\u001b[33ms your name? \u001b[39m\u001b[33m\"\u001b[39m))\n\u001b[32m----> \u001b[39m\u001b[32m7\u001b[39m age = \u001b[38;5;28;43mint\u001b[39;49m\u001b[43m(\u001b[49m\u001b[43m(\u001b[49m\u001b[38;5;28;43minput\u001b[39;49m\u001b[43m(\u001b[49m\u001b[33;43m\"\u001b[39;49m\u001b[33;43mHow old are you? \u001b[39;49m\u001b[33;43m\"\u001b[39;49m\u001b[43m)\u001b[49m\u001b[43m)\u001b[49m\u001b[43m)\u001b[49m\n\u001b[32m      8\u001b[39m gpa = \u001b[38;5;28mfloat\u001b[39m((\u001b[38;5;28minput\u001b[39m(\u001b[33m\"\u001b[39m\u001b[33mWhat\u001b[39m\u001b[33m'\u001b[39m\u001b[33ms your current GPA? \u001b[39m\u001b[33m\"\u001b[39m)))\n\u001b[32m      9\u001b[39m names_list.append(name)\n",
      "\u001b[31mValueError\u001b[39m: invalid literal for int() with base 10: ''"
     ]
    }
   ],
   "source": [
    "names_list,ages_list,gpa_list = [], [], []\n",
    "\n",
    "print(\"An interview\")\n",
    "for i in range(5):\n",
    "    print(i+1,\"candidate\")\n",
    "    name = (input(\"What's your name? \"))\n",
    "    age = int((input(\"How old are you? \")))\n",
    "    gpa = float((input(\"What's your current GPA? \")))\n",
    "    names_list.append(name)\n",
    "    ages_list.append(age)\n",
    "    gpa_list.append(gpa)\n",
    "\n",
    "\n",
    "response_manager = int(input(\"Are you a manager? type 1 to Yes and 0 to No and press other number to exit: \"))\n",
    "\n",
    "if response_manager == 1:\n",
    "    response_categories = int(input(\"Enter 0 to access Name\\nEnter 1 to access Age\\nEnter 2 to access GPA\"))\n",
    "    if response_categories == 0:\n",
    "        print(names_list)\n",
    "    elif response_categories == 1:\n",
    "        print(ages_list)\n",
    "    elif response_categories ==2: \n",
    "        print(gpa_list)\n",
    "\n",
    "print(\"Best candidates\", names_list[3], names_list[0], names_list[2])\n",
    "print(f'{names_list}\\n{ages_list}\\n{gpa_list}')\n",
    "\n"
   ]
  },
  {
   "cell_type": "markdown",
   "id": "d6ce0099",
   "metadata": {},
   "source": [
    "**Assignment - Dictionaries:**"
   ]
  },
  {
   "cell_type": "code",
   "execution_count": 14,
   "id": "ab1fb739",
   "metadata": {},
   "outputs": [
    {
     "name": "stdout",
     "output_type": "stream",
     "text": [
      "TestResults(failed=0, attempted=2)\n"
     ]
    }
   ],
   "source": [
    "\n",
    "import doctest\n",
    "myStoreInventory = {}\n",
    "myStoreInventoryPrice = {}\n",
    "myStoreInventory_list= [\"footwear\", \"clothes\", \"equipment\"]\n",
    "myStoreInventory[\"footwear\"] = ('Running shoes, soccer shoes, basketball shoes, baseball shoes')\n",
    "myStoreInventory[\"clothes\"] = ('shirts, tops, pants, hoodies')\n",
    "myStoreInventory[\"equipment\"] = ('weights, bands, towels, bats')\n",
    "\n",
    "\n",
    "myStoreInventoryPrice = {\n",
    "    \"Running Shoes\": 18,\n",
    "    \"soccer shoe\": 12,\n",
    "    \"basketball shoes\": 40,\n",
    "    \"baseball shoes\": 40,\n",
    "    \"shirts\": 25,\n",
    "    \"tops\": 24,\n",
    "    \"pants\": 25,\n",
    "    \"hoodies\": 56,\n",
    "    \"weights\": 37,\n",
    "    \"bands\": 26,\n",
    "    \"towels\": 35,\n",
    "    \"batsbats\": 47\n",
    "}\n",
    "\n",
    "\n",
    "def gettingTotalSum(new_list):\n",
    "    \"\"\" \n",
    "    >>> myStoreInventoryPrice = {\"bands\": 26, \"shirts\": 25, \"hoodies\": 56, \"soccer shoe\": 12}\n",
    "    >>> gettingTotalSum([myStoreInventoryPrice[\"bands\"],myStoreInventoryPrice[\"shirts\"],myStoreInventoryPrice[\"hoodies\"],myStoreInventoryPrice[\"soccer shoe\"]])\n",
    "    128.52\n",
    "    \"\"\"\n",
    "    total_before_tax = sum(new_list)\n",
    "    total_after_tax = total_before_tax * 1.08\n",
    "    return total_after_tax\n",
    "\n",
    "\n",
    "if __name__ == \"__main__\":\n",
    "    import doctest\n",
    "    # gettingTotalSum([myStoreInventoryPrice[\"bands\"],myStoreInventoryPrice[\"shirts\"],myStoreInventoryPrice[\"hoodies\"],myStoreInventoryPrice[\"soccer shoe\"]])\n",
    "    print(doctest.testmod())\n",
    "     \n",
    "\n",
    "\n"
   ]
  },
  {
   "cell_type": "markdown",
   "id": "ae50e1a0",
   "metadata": {},
   "source": [
    "**Assignment - Queues**"
   ]
  },
  {
   "cell_type": "code",
   "execution_count": null,
   "id": "3181c006",
   "metadata": {},
   "outputs": [],
   "source": [
    "\n",
    "from collections import deque\n",
    "\n",
    "queue = deque()\n",
    "print(\"Welcome to a queue task list maker\")\n",
    "\n",
    "while True:\n",
    "    print(\"What would you like to do?\")\n",
    "    print(\"1: add a task\")\n",
    "    print(\"2: look at the first task\")\n",
    "    print(\"3: complete (remove) the first task\")\n",
    "    print(\"4: clear the tasks\")\n",
    "    print(\"5: exit\")\n",
    "    choice = input(\"Enter your choice: \")\n",
    "\n",
    "    if choice == '1':\n",
    "        task = input(\"Add your task: \")\n",
    "        queue.append(task)\n",
    "        print(\"The task was added\")\n",
    "    elif choice == '2':\n",
    "        if len(queue) != 0:\n",
    "            print(f\"Your first task is ->{queue[0]}\")\n",
    "        else:\n",
    "            print(\"No task in the list\")\n",
    "    elif choice == '3':\n",
    "        if len(queue) != 0:\n",
    "            print(f\"Your task {queue[0]} was removed succesfully\")\n",
    "            queue.popleft()\n",
    "            \n",
    "        else:\n",
    "            print(\"No tasks in the list\")\n",
    "    elif choice == '4':\n",
    "        queue.clear()\n",
    "        print(\"All the tasks were deleted\")\n",
    "    elif choice == '5':\n",
    "        print(\"Goodbye\")\n",
    "        break\n",
    "    else:\n",
    "        print(\"Enter a valid option\")"
   ]
  }
 ],
 "metadata": {
  "kernelspec": {
   "display_name": "Python 3",
   "language": "python",
   "name": "python3"
  },
  "language_info": {
   "codemirror_mode": {
    "name": "ipython",
    "version": 3
   },
   "file_extension": ".py",
   "mimetype": "text/x-python",
   "name": "python",
   "nbconvert_exporter": "python",
   "pygments_lexer": "ipython3",
   "version": "3.12.4"
  }
 },
 "nbformat": 4,
 "nbformat_minor": 5
}
